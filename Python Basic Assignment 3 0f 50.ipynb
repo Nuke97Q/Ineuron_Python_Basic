{
 "cells": [
  {
   "cell_type": "raw",
   "id": "d3cea7ad",
   "metadata": {},
   "source": [
    "1. Why are functions advantageous to have in your programs?\n",
    "\n",
    "functions saves time of writing same code again\n",
    "functions makes code short"
   ]
  },
  {
   "cell_type": "raw",
   "id": "66fbc962",
   "metadata": {},
   "source": [
    "2. When does the code in a function run: when it's specified or when it's called?\n",
    "\n",
    "code function runs when it is called"
   ]
  },
  {
   "cell_type": "raw",
   "id": "86cded4c",
   "metadata": {},
   "source": [
    "3. What statement creates a function?\n",
    "\n",
    "def is a keyword used to define a function. By following method we can create a function\n",
    "    def new_function():             #new_function is created named new_function\n",
    "          expression1\n",
    "          expression2\n",
    "          "
   ]
  },
  {
   "cell_type": "raw",
   "id": "0b8c3ae3",
   "metadata": {},
   "source": [
    "4. What is the difference between a function and a function call?\n",
    "\n",
    "function is a set of commands which gives something/or nothing\n",
    "function call is the invoking a function by writing the function()."
   ]
  },
  {
   "cell_type": "raw",
   "id": "a73e812c",
   "metadata": {},
   "source": [
    "5. How many global scopes are there in a Python program? How many local scopes?\n",
    "\n",
    "A variable created outside a function is known as global scopes\n",
    "A variable that is created inside a function is local variable.\n",
    "there are many global and local scopes"
   ]
  },
  {
   "cell_type": "raw",
   "id": "191df5c2",
   "metadata": {},
   "source": [
    "6. What happens to variables in a local scope when the function call returns?\n",
    "\n",
    "existance of variable end when function call returns"
   ]
  },
  {
   "cell_type": "raw",
   "id": "e2e4eb37",
   "metadata": {},
   "source": [
    "7. What is the concept of a return value? Is it possible to have a return value in an expression?\n",
    "\n",
    "print function gives an output with None type which maynot be of further use, whereas return gives data type which is provided in function\n",
    "yes it is possible to have a return value in an expression"
   ]
  },
  {
   "cell_type": "raw",
   "id": "264fee94",
   "metadata": {},
   "source": [
    "8. If a function does not have a return statement, what is the return value of a call to that function?\n",
    "\n",
    "function returns a None value"
   ]
  },
  {
   "cell_type": "raw",
   "id": "28babe28",
   "metadata": {},
   "source": [
    "9. How do you make a function variable refer to the global variable?\n",
    "\n",
    "a=20\n",
    "def assignment(num):\n",
    "    b=a                        #copying value into other local variable\n",
    "    return b-num"
   ]
  },
  {
   "cell_type": "raw",
   "id": "c94e1e1d",
   "metadata": {},
   "source": [
    "10. What is data type of None\n",
    "\n",
    "NoneType"
   ]
  },
  {
   "cell_type": "raw",
   "id": "f18c74ec",
   "metadata": {},
   "source": [
    "11.What does the sentence import areallyourpetsnamederic do?\n",
    "\n",
    "it will import the module areallyourpetsnamederic and we can access its functions of that module"
   ]
  },
  {
   "cell_type": "raw",
   "id": "b0df3ee2",
   "metadata": {},
   "source": [
    "12. If you had a bacon() feature in a spam module, what would you call it after importing spam?\n",
    "\n",
    "spam.bacon()"
   ]
  },
  {
   "cell_type": "raw",
   "id": "2e1755c4",
   "metadata": {},
   "source": [
    "13. What can you do to save a programme from crashing if it encounters an error?\n",
    "try and except"
   ]
  },
  {
   "cell_type": "raw",
   "id": "919f5490",
   "metadata": {},
   "source": [
    "14. What is the purpose of the try clause? What is the purpose of the except clause?\n",
    "\n",
    "try clause will run code inside of it if any error exception occurs then except will get invoke."
   ]
  }
 ],
 "metadata": {
  "kernelspec": {
   "display_name": "Python 3",
   "language": "python",
   "name": "python3"
  },
  "language_info": {
   "codemirror_mode": {
    "name": "ipython",
    "version": 3
   },
   "file_extension": ".py",
   "mimetype": "text/x-python",
   "name": "python",
   "nbconvert_exporter": "python",
   "pygments_lexer": "ipython3",
   "version": "3.8.8"
  }
 },
 "nbformat": 4,
 "nbformat_minor": 5
}
