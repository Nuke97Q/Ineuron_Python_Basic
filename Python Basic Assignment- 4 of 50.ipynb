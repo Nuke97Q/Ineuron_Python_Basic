{
 "cells": [
  {
   "cell_type": "raw",
   "id": "7fbf589b",
   "metadata": {},
   "source": [
    "1. What exactly is []?\n",
    "\n",
    "square bracket in python language represents list."
   ]
  },
  {
   "cell_type": "raw",
   "id": "bdf296bb",
   "metadata": {},
   "source": [
    "2. In a list of values stored in a variable called spam, how would you assign the value 'hello' as the\n",
    "third value? (Assume [2, 4, 6, 8, 10] are in spam.)\n",
    "\n",
    "spam[2]='hello'"
   ]
  },
  {
   "cell_type": "raw",
   "id": "e92584b5",
   "metadata": {},
   "source": [
    "spam=['a','b', 'c', 'd'] \n",
    "for the next three queries.\n",
    "\n",
    "3. What is the value of spam[int(int('3' * 2) / 11)]?\n",
    ">>> 'd'\n",
    "\n",
    "4. What is the value of spam[-1]?\n",
    ">>> 'd'\n",
    "\n",
    "5. What is the value of spam[:2]?\n",
    ">>>['a','b']"
   ]
  },
  {
   "cell_type": "raw",
   "id": "4ea6ff90",
   "metadata": {},
   "source": [
    "bacon=[3.14,'cat',11,'cat',True] for the next three queries.\n",
    "\n",
    "6. What is the value of bacon.index('cat')\n",
    ">>> 1\n",
    "\n",
    "7.How does bacon.append(99) change the look of the list value in bacon?\n",
    ">>>[3.14, 'cat', 11, 'cat', True, 99]\n",
    "\n",
    "8. How does bacon.remove('cat') change the look of the list in bacon?\n",
    ">>>[3.14, 11, 'cat', True]"
   ]
  },
  {
   "cell_type": "raw",
   "id": "e6b21b9f",
   "metadata": {},
   "source": [
    "9. What are the list concatenation and list replication operators?\n",
    "\n",
    "+ is list concatenation and * is list replication operator"
   ]
  },
  {
   "cell_type": "raw",
   "id": "f7d7127c",
   "metadata": {},
   "source": [
    "10. What is difference between the list methods append() and insert()?\n",
    "\n",
    "append() will add an element at last of the list.\n",
    "whereas insert() will add it with specific index"
   ]
  },
  {
   "cell_type": "raw",
   "id": "3417d6a5",
   "metadata": {},
   "source": [
    "11. What are the two methods for removing items from a list?\n",
    "\n",
    "pop() and remove() are two method of removing items from list."
   ]
  },
  {
   "cell_type": "raw",
   "id": "4d6af5a7",
   "metadata": {},
   "source": [
    "12. Describe how list values and string values are identical.\n",
    "\n",
    "list and string both store values inside with sequence"
   ]
  },
  {
   "cell_type": "raw",
   "id": "efc9b635",
   "metadata": {},
   "source": [
    "13. What's the difference between tuples and lists?\n",
    "\n",
    "the main difference between list and tuple is list is mutable whereas tuple is immutable."
   ]
  },
  {
   "cell_type": "raw",
   "id": "61459541",
   "metadata": {},
   "source": [
    "14. How do you type a tuple value that only contains the integer 42?\n",
    "\n",
    "a=(42,)"
   ]
  },
  {
   "cell_type": "raw",
   "id": "4fbbdd75",
   "metadata": {},
   "source": [
    "15. How do you get a list value's tuple form? How do you get a tuple value's list form?\n",
    "\n",
    "a=(1,2,3)\n",
    "b=[1,2,3]\n",
    "tuple(b)\n",
    "list(a)"
   ]
  },
  {
   "cell_type": "raw",
   "id": "22c23e7a",
   "metadata": {},
   "source": [
    "16. Variables that \"contain\" list values are not necessarily lists themselves. Instead, what do they\n",
    "contain?\n",
    "\n",
    "They do contain strings,tuples,dictionary,complex number"
   ]
  },
  {
   "cell_type": "raw",
   "id": "d7de928c",
   "metadata": {},
   "source": [
    "17. How do you distinguish between copy.copy() and copy.deepcopy()?\n",
    "\n",
    "copy.copy() when a change is made in copied object it will reflect in original object.\n",
    "copy.deepcopy() change in object will not be reflected in original object "
   ]
  }
 ],
 "metadata": {
  "kernelspec": {
   "display_name": "Python 3",
   "language": "python",
   "name": "python3"
  },
  "language_info": {
   "codemirror_mode": {
    "name": "ipython",
    "version": 3
   },
   "file_extension": ".py",
   "mimetype": "text/x-python",
   "name": "python",
   "nbconvert_exporter": "python",
   "pygments_lexer": "ipython3",
   "version": "3.8.8"
  }
 },
 "nbformat": 4,
 "nbformat_minor": 5
}
