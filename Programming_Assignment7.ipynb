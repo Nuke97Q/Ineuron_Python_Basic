{
 "cells": [
  {
   "cell_type": "raw",
   "id": "2960eb5e",
   "metadata": {},
   "source": [
    "#1. Write program to find sum of arrays\n",
    "\n",
    "a= [1,2,3,4,5]\n",
    "n=0\n",
    "for i in a:\n",
    "    n = n+ i\n",
    "    \n",
    "print(\"sum of elements\", n)"
   ]
  },
  {
   "cell_type": "raw",
   "id": "b5e97daa",
   "metadata": {},
   "source": [
    "#2. Write a Python Program to find largest element in an array?\n",
    "\n",
    "a=[1,2,3,4,5,11,6,7,10,9]\n",
    "n= int()\n",
    "for i in a:\n",
    "    if n<=i:\n",
    "        n=i\n",
    "print(n)"
   ]
  },
  {
   "cell_type": "raw",
   "id": "3e8c60c2",
   "metadata": {},
   "source": [
    " #3.Write a python program for array rotation?\n",
    "    \n",
    "a = [1,2,3,4,5,6]\n",
    "b=list()\n",
    "for i in range(len(a)-1,-1,-1):\n",
    "    b.append(a[i])\n",
    "print(b)"
   ]
  },
  {
   "cell_type": "raw",
   "id": "2af236a3",
   "metadata": {},
   "source": [
    "#4. Write a python program to split the array and add the first part to the end?\n",
    "\n",
    "a=[1,2,3,4,5,6,7,8]\n",
    "b=list()\n",
    "c=list()\n",
    "\n",
    "#num= int(input(\"index from where u want to split\"))\n",
    "num=3\n",
    "for i in range(num):\n",
    "    b.append(a[i])\n",
    "for i in range(num,len(a)):\n",
    "    c.append(a[i])\n",
    "c.extend(b)"
   ]
  },
  {
   "cell_type": "raw",
   "id": "5d7e4138",
   "metadata": {},
   "source": [
    "#5. Write a Python Program to check if given array is Monotonic?\n",
    "\n",
    "def isMonotonic(A):\n",
    "    x, y = [], []\n",
    "    x.extend(A)\n",
    "    y.extend(A)\n",
    "    x.sort()\n",
    "    y.sort(reverse=True)\n",
    "    if(x == A or y == A):\n",
    "        return True\n",
    "    return False\n",
    "A=[6,5,4,4]\n",
    "print(isMonotonic(A))"
   ]
  }
 ],
 "metadata": {
  "kernelspec": {
   "display_name": "Python 3",
   "language": "python",
   "name": "python3"
  },
  "language_info": {
   "codemirror_mode": {
    "name": "ipython",
    "version": 3
   },
   "file_extension": ".py",
   "mimetype": "text/x-python",
   "name": "python",
   "nbconvert_exporter": "python",
   "pygments_lexer": "ipython3",
   "version": "3.8.8"
  }
 },
 "nbformat": 4,
 "nbformat_minor": 5
}
