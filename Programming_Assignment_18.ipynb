{
 "cells": [
  {
   "cell_type": "raw",
   "id": "b0dcea71",
   "metadata": {},
   "source": [
    "Create a function that takes a list of non-negative integers and strings and return a new list\n",
    "without the strings.\n",
    "\n",
    "def filter_list(L):\n",
    "    intg=[]\n",
    "    for i in L:\n",
    "        if type(i)==int:\n",
    "            intg.append(i)\n",
    "\n",
    "    return intg\n",
    "filter_list([1, 2,'a','b','c'])"
   ]
  },
  {
   "cell_type": "markdown",
   "id": "36c85beb",
   "metadata": {},
   "source": [
    "The \"Reverser\"; takes a string as input and returns that string in reverse order, with the\n",
    "opposite case.\n",
    "\n",
    "def Reverser(a):\n",
    "    rev = a[::-1]\n",
    "    case=''\n",
    "    for i in rev:\n",
    "        if i.isupper():\n",
    "            case = case+ i.lower()\n",
    "        elif i.islower():\n",
    "            case = case+ i.upper()\n",
    "            \n",
    "    return case\n",
    "Reverser('Nazir')"
   ]
  },
  {
   "cell_type": "raw",
   "id": "ad2f922e",
   "metadata": {},
   "source": [
    "#Write a function that calculates the factorial of a number recursively.\n",
    "\n",
    "def Factorial(num):\n",
    "    if num==0:\n",
    "        return 1\n",
    "    return num* Factorial(num-1)\n",
    "\n",
    "Factorial(5)"
   ]
  },
  {
   "cell_type": "raw",
   "id": "a82c10e6",
   "metadata": {},
   "source": [
    "#Write a function that moves all elements of one type to the end of the list.\n",
    "\n",
    "def move_to_end(a,b):\n",
    "    ls = []\n",
    "    for i in range(len(a)):\n",
    "        if a[i]!=b:\n",
    "            ls.append(a[i])\n",
    "        else:\n",
    "            ls.insert(-1,a[i])\n",
    "    return ls[::-1]\n",
    "move_to_end(['a','a','b','a','c'],'a')"
   ]
  },
  {
   "cell_type": "code",
   "execution_count": null,
   "id": "1bf41163",
   "metadata": {},
   "outputs": [],
   "source": []
  }
 ],
 "metadata": {
  "kernelspec": {
   "display_name": "Python 3",
   "language": "python",
   "name": "python3"
  },
  "language_info": {
   "codemirror_mode": {
    "name": "ipython",
    "version": 3
   },
   "file_extension": ".py",
   "mimetype": "text/x-python",
   "name": "python",
   "nbconvert_exporter": "python",
   "pygments_lexer": "ipython3",
   "version": "3.8.8"
  }
 },
 "nbformat": 4,
 "nbformat_minor": 5
}
