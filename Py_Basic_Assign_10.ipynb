{
 "cells": [
  {
   "cell_type": "raw",
   "id": "8f369df5",
   "metadata": {},
   "source": [
    "#1. Create an assert statement that throws an AssertionError if the variable spam is a negative\n",
    "#integer.\n",
    "\n",
    "spam = int(input())\n",
    "\n",
    "assert spam>=0\n",
    "print()"
   ]
  },
  {
   "cell_type": "raw",
   "id": "44b8b172",
   "metadata": {},
   "source": [
    "2. Write an assert statement that triggers an AssertionError if the variables eggs and bacon contain\n",
    "strings that are the same as each other, even if their cases are different (that is, 'hello' and 'hello' are\n",
    "considered the same, and 'goodbye' and 'GOODbye' are also considered the same).\n",
    "\n",
    "eggs = \"Hello\"\n",
    "bacon = \"hello\"\n",
    "if eggs.isupper():\n",
    "    assert eggs==bacon.lower()\n",
    "else:\n",
    "    assert eggs ==bacon.upper()\n",
    "print()"
   ]
  },
  {
   "cell_type": "raw",
   "id": "4011553d",
   "metadata": {},
   "source": [
    "#3. Create an assert statement that throws an AssertionError every time.\n",
    "inr= input()\n",
    "assert False\n",
    "print()"
   ]
  },
  {
   "cell_type": "raw",
   "id": "7aaa5c87",
   "metadata": {},
   "source": [
    "4. What are the two lines that must be present in your software in order to call logging.debug()?\n",
    "\n",
    ">> logging.basicConfig(level=logging.DEBUG)"
   ]
  },
  {
   "cell_type": "raw",
   "id": "bf900114",
   "metadata": {},
   "source": [
    "5. What are the two lines that your program must have in order to have logging.debug() send a\n",
    "logging message to a file named programLog.txt?\n",
    "\n",
    "import logging\n",
    "logging.basicConfig(filename='programLog.txt', level=logging.DEBUG, format=' %(asctime)s - %(levelname)s - %(message)s')"
   ]
  },
  {
   "cell_type": "raw",
   "id": "80f7098a",
   "metadata": {},
   "source": [
    "6. What are the five levels of logging?\n",
    "\n",
    ">>DEBUG, INFO, WARNING, ERROR, and CRITICAL"
   ]
  },
  {
   "cell_type": "raw",
   "id": "903867d7",
   "metadata": {},
   "source": [
    "7. What line of code would you add to your software to disable all logging messages?\n",
    "\n",
    ">>logging.disable(logging.CRITICAL)"
   ]
  },
  {
   "cell_type": "raw",
   "id": "1fe0dd0f",
   "metadata": {},
   "source": [
    "8.Why is using logging messages better than using print() to display the same message?\n",
    "\n",
    ">>ou can disable logging messages without removing the logging function calls. \n",
    "You can selectively disable lower-level logging messages. \n",
    "You can create logging messages. Logging messages provides a timestamp."
   ]
  },
  {
   "cell_type": "raw",
   "id": "dbd19e2b",
   "metadata": {},
   "source": [
    "9. What are the differences between the Step Over, Step In, and Step Out buttons in the debugger?\n",
    "\n",
    ">>The Step button will move the debugger into a function call. \n",
    "The Over button will quickly execute the function call without stepping into it. \n",
    "The Out button will quickly execute the rest of the code until it steps out of the function it currently is in."
   ]
  },
  {
   "cell_type": "code",
   "execution_count": null,
   "id": "2ac5239b",
   "metadata": {},
   "outputs": [],
   "source": [
    "10.After you click Continue, when will the debugger stop ?\n",
    "\n",
    ">>click Go, the debugger will stop when it has reached the end of the program or a line with a breakpoint."
   ]
  },
  {
   "cell_type": "code",
   "execution_count": null,
   "id": "a2dd28a3",
   "metadata": {},
   "outputs": [],
   "source": [
    "11. What is the concept of a breakpoint?\n",
    "\n",
    ">>breakpoint is a setting on a line of code that causes the debugger to pause when the program execution reaches the line"
   ]
  }
 ],
 "metadata": {
  "kernelspec": {
   "display_name": "Python 3",
   "language": "python",
   "name": "python3"
  },
  "language_info": {
   "codemirror_mode": {
    "name": "ipython",
    "version": 3
   },
   "file_extension": ".py",
   "mimetype": "text/x-python",
   "name": "python",
   "nbconvert_exporter": "python",
   "pygments_lexer": "ipython3",
   "version": "3.8.8"
  }
 },
 "nbformat": 4,
 "nbformat_minor": 5
}
