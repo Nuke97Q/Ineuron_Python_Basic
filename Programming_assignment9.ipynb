{
 "cells": [
  {
   "cell_type": "raw",
   "id": "4f233741",
   "metadata": {},
   "source": [
    "a = int(input('Enter a number to check'))\n",
    "s=0\n",
    "temp=a\n",
    "while a>0:\n",
    "    b=(a%10)\n",
    "    s = s+ b**(len(str(a)))\n",
    "    a=a//10\n",
    "\n",
    "if temp==s:\n",
    "    print(\"Number is disarium\")\n",
    "else:\n",
    "    print(\"Number is not disarium\")"
   ]
  },
  {
   "cell_type": "raw",
   "id": "845581cd",
   "metadata": {},
   "source": [
    "#2. Write a Python program to print all disarium numbers between 1 to 100?\n",
    "\n",
    "for i in range(1,100):\n",
    "    if i<10:\n",
    "        print(i)\n",
    "        \n",
    "    else:\n",
    "        temp=i\n",
    "        s=0\n",
    "        while i>0:\n",
    "            b=i%10\n",
    "            s= s+ b**(len(str(i)))\n",
    "            i=i//10\n",
    "            \n",
    "        if s==temp:\n",
    "            print(s)"
   ]
  },
  {
   "cell_type": "raw",
   "id": "f6d12668",
   "metadata": {},
   "source": [
    "#3. Write a Python program to check if the given number is Happy Number?\n",
    "\n",
    "def Happy(num):\n",
    "    temp=num\n",
    "    sm=0\n",
    "    while num>0:\n",
    "        tp=num % 10\n",
    "        sm = sm + tp**2\n",
    "        num = num//10\n",
    "    try:\n",
    "        if sm==1:\n",
    "            print(\"happy\")\n",
    "        else:\n",
    "            Happy(sm)\n",
    "    except RecursionError:\n",
    "        print(\"Not Happy\")"
   ]
  },
  {
   "cell_type": "raw",
   "id": "162271db",
   "metadata": {},
   "source": [
    "#4. Write a Python program to print all happy numbers between 1 and 100?\n",
    "\n",
    "def Happy(num):\n",
    "    temp=num\n",
    "    sm=0\n",
    "    while temp>0:\n",
    "        tp=temp % 10\n",
    "        sm = sm + tp**2\n",
    "        temp = temp//10\n",
    "    return sm\n",
    "for i in range(1,101):\n",
    "    result = i\n",
    "    while (result !=1 and result !=4):\n",
    "        result = Happy(result)\n",
    "    if result==1:\n",
    "        print(i)\n",
    "    "
   ]
  },
  {
   "cell_type": "raw",
   "id": "d46cb13b",
   "metadata": {},
   "source": [
    "#5. Write a Python program to determine whether the given number is a Harshad Number?\n",
    "\n",
    "\n",
    "num = int(input(\"Enter a number: \"))\n",
    "temp=num\n",
    "s = 0\n",
    "while num>0:\n",
    "    tp= num%10\n",
    "    s = s + tp\n",
    "    num=num//10\n",
    "\n",
    "if temp%s==0:\n",
    "    print(\"yes\")\n",
    "else:\n",
    "    print('No')"
   ]
  },
  {
   "cell_type": "raw",
   "id": "ba7875b2",
   "metadata": {},
   "source": [
    "6. Write a Python program to print all pronic numbers between 1 and 100?\n",
    "\n",
    "for i in range(0,100):\n",
    "    for j in range(i+1,i+2):\n",
    "        print(f'{i} * {j} =',i*j)"
   ]
  }
 ],
 "metadata": {
  "kernelspec": {
   "display_name": "Python 3",
   "language": "python",
   "name": "python3"
  },
  "language_info": {
   "codemirror_mode": {
    "name": "ipython",
    "version": 3
   },
   "file_extension": ".py",
   "mimetype": "text/x-python",
   "name": "python",
   "nbconvert_exporter": "python",
   "pygments_lexer": "ipython3",
   "version": "3.8.8"
  }
 },
 "nbformat": 4,
 "nbformat_minor": 5
}
