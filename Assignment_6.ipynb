{
 "cells": [
  {
   "cell_type": "raw",
   "id": "16b4c225",
   "metadata": {},
   "source": [
    "1. What are escape characters, and how do you use them?\n",
    "\n",
    "escape character are used to insert a illegal character inside a string.\n",
    "e.g:\n",
    "    txt = \"You are \"dumb\" not smart\"       This will give error\n",
    "    txt = \"You are \\\"dumb\\\"not smart\"      prints:- You are \"dumb\" not smart"
   ]
  },
  {
   "cell_type": "raw",
   "id": "9d1fb18a",
   "metadata": {},
   "source": [
    "2. What do the escape characters n and t stand for?\n",
    "\n",
    "escape character n is for new line \n",
    "escape character t is for tab distance"
   ]
  },
  {
   "cell_type": "raw",
   "id": "ee588e08",
   "metadata": {},
   "source": [
    "#3. What is the way to include backslash characters in a string?\n",
    "\n",
    "x = \" this will include \\\\ (backslash)\""
   ]
  },
  {
   "cell_type": "raw",
   "id": "4d595d9d",
   "metadata": {},
   "source": [
    "4. The string \"Howl's Moving Castle\" is a correct value. Why isn't the single quote character in the\n",
    "word Howl's not escaped a problem?\n",
    "\n",
    ">> The double quoted string can adjust the single quotes inside the strings."
   ]
  },
  {
   "cell_type": "raw",
   "id": "8b838a8a",
   "metadata": {},
   "source": [
    "#5. How do you write a string of newlines if you don't want to use the n character?\n",
    "\n",
    "x = \"\"\" Hi im\n",
    "        nazir\"\"\"    by using triple quoted string"
   ]
  },
  {
   "cell_type": "raw",
   "id": "12cb1959",
   "metadata": {},
   "source": [
    "#6. What are the values of the given expressions?\n",
    "1)'Hello, world!'[1]\n",
    "2)'Hello, world!'[0:5]\n",
    "3)'Hello, world!'[:5]\n",
    "4)'Hello, world!'[3:]\n",
    "\n",
    "1) e\n",
    "2)Hello\n",
    "3)Hello\n",
    "4)lo, world!"
   ]
  },
  {
   "cell_type": "raw",
   "id": "9727a13f",
   "metadata": {},
   "source": [
    "7. What are the values of the following expressions?\n",
    "\n",
    "1)'Hello'.upper()\n",
    "2)'Hello'.upper().isupper()\n",
    "3)'Hello'.upper().lower()\n",
    "\n",
    "1)HELLO\n",
    "2)True\n",
    "3)hello"
   ]
  },
  {
   "cell_type": "raw",
   "id": "60225fd5",
   "metadata": {},
   "source": [
    "8. What are the values of the following expressions?\n",
    "1)'Remember, remember, the fifth of July'.split()\n",
    "2)'-'.join('There can only one'.split())\n",
    "\n",
    "1)['Remember,', 'remember,', 'the', 'fifth', 'of', 'July']\n",
    "2)There-can-only-one"
   ]
  },
  {
   "cell_type": "raw",
   "id": "eb1c12a2",
   "metadata": {},
   "source": [
    "9. What are the methods for right-justifying, left-justifying, and centering a string?\n",
    "\n",
    "rjust(), ljust(), Center()"
   ]
  },
  {
   "cell_type": "raw",
   "id": "e41eef6c",
   "metadata": {},
   "source": [
    "10. What is the best way to remove whitespace characters from the start or end?\n",
    "\n",
    "removing white space from start>> trimStart()\n",
    "removing white space from end >> trimEnd()"
   ]
  }
 ],
 "metadata": {
  "kernelspec": {
   "display_name": "Python 3",
   "language": "python",
   "name": "python3"
  },
  "language_info": {
   "codemirror_mode": {
    "name": "ipython",
    "version": 3
   },
   "file_extension": ".py",
   "mimetype": "text/x-python",
   "name": "python",
   "nbconvert_exporter": "python",
   "pygments_lexer": "ipython3",
   "version": "3.8.8"
  }
 },
 "nbformat": 4,
 "nbformat_minor": 5
}
