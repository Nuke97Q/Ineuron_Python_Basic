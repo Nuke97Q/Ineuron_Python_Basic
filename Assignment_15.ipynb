{
 "cells": [
  {
   "cell_type": "raw",
   "id": "0cbf696e",
   "metadata": {},
   "source": [
    "1.How many seconds are in an hour? Use the interactive interpreter as a calculator and multiply the\n",
    "number of seconds in a minute (60) by the number of minutes in an hour (also 60).\n",
    "\n",
    ">> 60*60*60\n"
   ]
  },
  {
   "cell_type": "raw",
   "id": "2f43f16d",
   "metadata": {},
   "source": [
    "2. Assign the result from the previous task (seconds in an hour) to a variable called\n",
    "seconds_per_hour.\n",
    "\n",
    ">> seconds_per_hour = 60*60*60"
   ]
  },
  {
   "cell_type": "raw",
   "id": "701d62e3",
   "metadata": {},
   "source": [
    "3. How many seconds do you think there are in a day? Make use of the variables seconds per hour\n",
    "and minutes per hour.\n",
    "\n",
    ">> minutes_per_hour = 60*60\n",
    "seconds_per_hour = minutes_per_hour *60\n",
    "\n",
    "seconds_per_hour*24"
   ]
  },
  {
   "cell_type": "raw",
   "id": "1c2be5b5",
   "metadata": {},
   "source": [
    "minutes_per_hour = 60*60\n",
    "seconds_per_hour = minutes_per_hour *60\n",
    "seconds_per_day = seconds_per_hour*24"
   ]
  },
  {
   "cell_type": "raw",
   "id": "035b3dce",
   "metadata": {},
   "source": [
    "4. Calculate seconds per day again, but this time save the result in a variable called seconds_per_day\n",
    "\n",
    ">>seconds_per_day = seconds_per_hour*24"
   ]
  },
  {
   "cell_type": "raw",
   "id": "323638cc",
   "metadata": {},
   "source": [
    "5. Divide seconds_per_day by seconds_per_hour. Use floating-point (/) division.\n",
    "\n",
    ">> seconds_per_day/seconds_per_hour"
   ]
  },
  {
   "cell_type": "raw",
   "id": "db296cdb",
   "metadata": {},
   "source": [
    "#6. Divide seconds_per_day by seconds_per_hour, using integer (//) division. Did this number agree\n",
    "#with the floating-point value from the previous question, aside from the final .0?\n",
    "\n",
    ">>seconds_per_day//seconds_per_hour\n",
    "this number agrees with the floating-point value from the previous question aside from final .0"
   ]
  },
  {
   "cell_type": "markdown",
   "id": "493d67f6",
   "metadata": {},
   "source": [
    "7. Write a generator, genPrimes, that returns the sequence of prime numbers on successive calls to\n",
    "its next() method: 2, 3, 5, 7, 11, ...\n",
    "\n",
    "\n",
    "def genPrime(num):\n",
    "    for number in range(1,num+1):\n",
    "        if number>1:\n",
    "            for i in range(2,number):\n",
    "                if (number%i)==0:\n",
    "                    break\n",
    "            else:\n",
    "                yield number\n",
    "k=genPrime(20)\n",
    "next(k)"
   ]
  }
 ],
 "metadata": {
  "kernelspec": {
   "display_name": "Python 3",
   "language": "python",
   "name": "python3"
  },
  "language_info": {
   "codemirror_mode": {
    "name": "ipython",
    "version": 3
   },
   "file_extension": ".py",
   "mimetype": "text/x-python",
   "name": "python",
   "nbconvert_exporter": "python",
   "pygments_lexer": "ipython3",
   "version": "3.8.8"
  }
 },
 "nbformat": 4,
 "nbformat_minor": 5
}
