{
 "cells": [
  {
   "cell_type": "raw",
   "id": "4127a709",
   "metadata": {},
   "source": [
    "#1) What is the result of the program and explain\n",
    "\n",
    "X = 'iNeuron'\n",
    "def func():\n",
    "    print(X)\n",
    "func()\n",
    "#Result>> iNeuron\n",
    "# function func called which contain print statement of variable X"
   ]
  },
  {
   "cell_type": "raw",
   "id": "4682b2fb",
   "metadata": {},
   "source": [
    "#2. What is the result of the code, and explain?\n",
    "\n",
    "X ='iNeuron'\n",
    "def func():\n",
    "    X= 'N!'\n",
    "func()\n",
    "print(X)\n",
    "#result>> iNeuron\n",
    "   # function func is overwriting the variable X but when function ends the value of X is as assigned globaly"
   ]
  },
  {
   "cell_type": "raw",
   "id": "2ada1a84",
   "metadata": {},
   "source": [
    "#3. What does this code print, and why?\n",
    "\n",
    "X ='iNeuron'\n",
    "def func():\n",
    "    X= 'N!'\n",
    "    print(X)\n",
    "func()\n",
    "print(X)\n",
    "#result>> N!\n",
    "        #iNeuron\n",
    "#function prints its local variable whereas outside it prints global value of variable"
   ]
  },
  {
   "cell_type": "raw",
   "id": "0416765b",
   "metadata": {},
   "source": [
    "#4. What output does this code produce?Why?\n",
    "\n",
    "X ='iNeuron'\n",
    "def func():\n",
    "    global X\n",
    "    X = 'Ni'\n",
    "func()\n",
    "print(X)\n",
    "#Result>> Ni \n",
    "    the keyword global will replace the value of varialbe stateted above."
   ]
  },
  {
   "cell_type": "raw",
   "id": "81ca6d33",
   "metadata": {},
   "source": [
    "#5. What about this code—what’s the output, and why?\n",
    "\n",
    "X = 'iNeuron'\n",
    "def func():\n",
    "    X = 'NI'\n",
    "def nested():\n",
    "    print(X)\n",
    "nested()\n",
    "\n",
    "#result>>iNeuron\n",
    "nested function will take the value of X which is assigned globally."
   ]
  },
  {
   "cell_type": "raw",
   "id": "2f0ef40d",
   "metadata": {},
   "source": [
    "#6. How about this code: what is its output in Python 3, and explain?\n",
    "\n",
    "def func():  \n",
    "    X = 'NI'\n",
    "    def nested():\n",
    "        nonlocal X\n",
    "        X = 'Spam'\n",
    "    nested()\n",
    "    print(X)\n",
    "    \n",
    "func()\n",
    "\n",
    "#Result>> Spam\n",
    "    nonlocal keyword will change the value of function local variable to nested function variable"
   ]
  },
  {
   "cell_type": "code",
   "execution_count": null,
   "id": "49355744",
   "metadata": {},
   "outputs": [],
   "source": []
  }
 ],
 "metadata": {
  "kernelspec": {
   "display_name": "Python 3",
   "language": "python",
   "name": "python3"
  },
  "language_info": {
   "codemirror_mode": {
    "name": "ipython",
    "version": 3
   },
   "file_extension": ".py",
   "mimetype": "text/x-python",
   "name": "python",
   "nbconvert_exporter": "python",
   "pygments_lexer": "ipython3",
   "version": "3.8.8"
  }
 },
 "nbformat": 4,
 "nbformat_minor": 5
}
