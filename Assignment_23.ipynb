{
 "cells": [
  {
   "cell_type": "raw",
   "id": "ebabac4c",
   "metadata": {},
   "source": [
    "#1. What is the result of the code, and why?\n",
    "def func(a, b=6, c=8):\n",
    "    print(a, b, c)\n",
    "func(1, 2)\n",
    ">>result : 1 2 8\n",
    "    function func is taking three arguements a,b,c but b and c are predefined.\n",
    "    it would be okay if we provide only 1 value inside func while calling it.\n",
    "    but second value will override the value of second arguement in definition"
   ]
  },
  {
   "cell_type": "raw",
   "id": "b4034c6c",
   "metadata": {},
   "source": [
    "#2. What is the result of this code, and why?\n",
    "def func(a, b, c=5):\n",
    "    print(a, b, c)\n",
    "func(1, c=3,b=2)\n",
    ">>result : 1 2 3\n",
    "    function value override"
   ]
  },
  {
   "cell_type": "raw",
   "id": "6ee181f1",
   "metadata": {},
   "source": [
    "#3. How about this code: what is its result, and why?\n",
    "    \n",
    "def func(a,*pargs):\n",
    "    print(a,pargs)\n",
    "func(1,2,3)\n",
    ">>result: 1 (2,3)\n",
    "    first value will go to a and after that all will go to tuple form or pargs"
   ]
  },
  {
   "cell_type": "raw",
   "id": "36873ff4",
   "metadata": {},
   "source": [
    "#4: What does this code print?\n",
    "\n",
    "def func(a,**kwargs):\n",
    "    print(a, kwargs)\n",
    "func(a=1, c=3, b=2)\n",
    ">>result : 1 {'c': 3, 'b': 2}\n",
    "    **kwargs will take arguemets as key and value pair"
   ]
  },
  {
   "cell_type": "raw",
   "id": "5f006a36",
   "metadata": {},
   "source": [
    "#5. What gets printed by this, and explain?\n",
    "\n",
    "def func(a,b,c=8,d=5):print(a,b,c,d)\n",
    "    \n",
    "func(1,*(5,6))\n",
    "result>>1 5 6 5\n",
    "    function takes 2 arguements *(5,6) this will be alloted to b and c"
   ]
  },
  {
   "cell_type": "raw",
   "id": "731e41c0",
   "metadata": {},
   "source": [
    "def func(a, b, c): a = 2;b[0]='x'; c['a'] = 'y'\n",
    "l=1; m = [2]; n={'a':3}\n",
    "func(l, m, n)\n",
    "l,m,n\n",
    "\n",
    "#result:- (1, ['x'], {'a': 'y'})\n",
    "    c['a']='y' its a key value pair. when try to overwrite with same key it will show only first key value pair.\n",
    "    the second arguement is list.\n",
    "    "
   ]
  },
  {
   "cell_type": "code",
   "execution_count": null,
   "id": "68f78250",
   "metadata": {},
   "outputs": [],
   "source": []
  }
 ],
 "metadata": {
  "kernelspec": {
   "display_name": "Python 3",
   "language": "python",
   "name": "python3"
  },
  "language_info": {
   "codemirror_mode": {
    "name": "ipython",
    "version": 3
   },
   "file_extension": ".py",
   "mimetype": "text/x-python",
   "name": "python",
   "nbconvert_exporter": "python",
   "pygments_lexer": "ipython3",
   "version": "3.8.8"
  }
 },
 "nbformat": 4,
 "nbformat_minor": 5
}
