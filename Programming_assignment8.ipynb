{
 "cells": [
  {
   "cell_type": "raw",
   "id": "6441044a",
   "metadata": {},
   "source": [
    "1. Write a python program to add two matrices?\n",
    "\n",
    "X = [[1,2,3],\n",
    "    [3,4,5],\n",
    "    [3,5,7]]\n",
    "\n",
    "Y = [[9,8,7],\n",
    "    [6,5,4],\n",
    "    [3,2,1]]\n",
    "\n",
    "result = [[0,0,0],\n",
    "         [0,0,0],\n",
    "         [0,0,0]]\n",
    "\n",
    "for i in range(len (X)):\n",
    "    for j in range(len(X[0])):\n",
    "        result[i][j]= X[i][j] + Y[i][j]\n",
    "\n",
    "print(result)"
   ]
  },
  {
   "cell_type": "raw",
   "id": "1ce29a13",
   "metadata": {},
   "source": [
    "2. Write a python code for multiplication of matrice.\n",
    "\n",
    "X = [[1, 7, 3],\n",
    "    [3, 5, 6],\n",
    "    [6, 8, 9]]\n",
    "\n",
    "Y = [[1, 1, 1],\n",
    "     [6, 7, 3],\n",
    "     [4, 5, 9]]\n",
    "\n",
    "result = [[0,0,0],\n",
    "         [0,0,0],\n",
    "         [0,0,0]]\n",
    "\n",
    "for i in range(len(X)):\n",
    "    for j in range(len(X[0])):\n",
    "        if len(X)==len(Y[0]) :\n",
    "            result[i][j] += X[i][j] * Y[j][i]\n",
    "print(result)"
   ]
  },
  {
   "cell_type": "raw",
   "id": "ed419432",
   "metadata": {},
   "source": [
    "#3. Write a Python Program to Transpose a Matrix?\n",
    "\n",
    "X = [[1, 7, 3],\n",
    "    [3, 5, 6],\n",
    "    [6, 8, 9]]\n",
    "\n",
    "transpose = [[0,0,0],\n",
    "         [0,0,0],\n",
    "         [0,0,0]]\n",
    "\n",
    "for i in range(len(X)):\n",
    "    for j in range(len(X[0])):\n",
    "        transpose[j][i]= X[i][j]\n",
    "print(transpose)"
   ]
  },
  {
   "cell_type": "raw",
   "id": "adae6b69",
   "metadata": {},
   "source": [
    "# Write a Python Program to Sort Words in Alphabetic Order?\n",
    "a = 97\n",
    "word = input().split()\n",
    "\n",
    "word.sort()\n",
    "\n",
    "print(\"Sorted words are: \")\n",
    "for i in word:\n",
    "    print(i)"
   ]
  },
  {
   "cell_type": "raw",
   "id": "3dab4a59",
   "metadata": {},
   "source": [
    "string = \"my. name is # qazi\"\n",
    "\n",
    "punc= '''!()-[]{};:'\"\\,<>./?@#$%^&*_~'''\n",
    "\n",
    "for i in string:\n",
    "    if i in punc:\n",
    "        string = string.replace(i,\"\")\n",
    "print(string)"
   ]
  },
  {
   "cell_type": "code",
   "execution_count": null,
   "id": "b2b7972e",
   "metadata": {},
   "outputs": [],
   "source": []
  }
 ],
 "metadata": {
  "kernelspec": {
   "display_name": "Python 3",
   "language": "python",
   "name": "python3"
  },
  "language_info": {
   "codemirror_mode": {
    "name": "ipython",
    "version": 3
   },
   "file_extension": ".py",
   "mimetype": "text/x-python",
   "name": "python",
   "nbconvert_exporter": "python",
   "pygments_lexer": "ipython3",
   "version": "3.8.8"
  }
 },
 "nbformat": 4,
 "nbformat_minor": 5
}
