{
 "cells": [
  {
   "cell_type": "raw",
   "id": "9042e8fc",
   "metadata": {},
   "source": [
    "#1. Write a Python program to Extract Unique values dictionary values?\n",
    "\n",
    "dict1={'name':'nazir','sname':'Qazi', 'class':10, 's2name':'Qazi','name2':'nazir'}\n",
    "lst=[]\n",
    "for i in dict1.values():\n",
    "    lst.append(i)\n",
    "print(set(lst))"
   ]
  },
  {
   "cell_type": "raw",
   "id": "2e785100",
   "metadata": {},
   "source": [
    "#2. Write a Python program to find the sum of all items in a dictionary?\n",
    "\n",
    "dict1={'mark1':65,'mark2':26,'mark3':22}\n",
    "s=0\n",
    "for k,v in dict1.items():\n",
    "    s=s+v\n",
    "print(s)"
   ]
  },
  {
   "cell_type": "raw",
   "id": "7ac84049",
   "metadata": {},
   "source": [
    "#3. Write a Python program to Merging two Dictionaries?\n",
    "\n",
    "dict1={'name':'nazir','sname':'Qazi', 'class':10, 's2name':'Qazi','name2':'nazir'}\n",
    "dict2={'mark1':65,'mark2':26,'mark3':22}\n",
    "\n",
    "dict1.update(dict2)\n",
    "print(dict1)"
   ]
  },
  {
   "cell_type": "raw",
   "id": "581d092e",
   "metadata": {},
   "source": [
    "4. Write a Python program to convert key-values list to flat dictionary?\n",
    "\n",
    "lst=[('naz',24),('qaz',25),('paz',22)]\n",
    "dict3=dict()\n",
    "for i in lst:\n",
    "    dict3[i[0]]=i[1]\n",
    "print(dict3)"
   ]
  },
  {
   "cell_type": "raw",
   "id": "1a3c96b0",
   "metadata": {},
   "source": [
    "5. Write a Python program to insertion at the beginning in OrderedDict?\n",
    "\n",
    "from collections import OrderedDict\n",
    "\n",
    "d1 = OrderedDict([('naz',1),('qaz','2')])\n",
    "\n",
    "d1.update({'zaq':'3'})\n",
    "\n",
    "d1.move_to_end('zaq',last=False)\n",
    "\n",
    "print(d1)"
   ]
  },
  {
   "cell_type": "raw",
   "id": "5acc3cfa",
   "metadata": {},
   "source": [
    "#6. Write a Python program to check order of character in string using OrderedDict()?\n",
    "\n",
    "from collections import OrderedDict\n",
    "\n",
    "def checkOrder(input, pattern):\n",
    "\n",
    "    dict = OrderedDict.fromkeys(input)\n",
    "\n",
    "\n",
    "    ptrlen = 0\n",
    "    for key,value in dict.items():\n",
    "        if (key == pattern[ptrlen]):\n",
    "            ptrlen = ptrlen + 1\n",
    "        \n",
    "       \n",
    "        if (ptrlen == (len(pattern))):\n",
    "            return 'true'\n",
    "\n",
    "   \n",
    "    return 'false'\n",
    "\n",
    "if __name__ == \"__main__\":\n",
    "    input = 'engineers rock'\n",
    "    pattern = 'er'\n",
    "    print (checkOrder(input,pattern))\n"
   ]
  },
  {
   "cell_type": "code",
   "execution_count": null,
   "id": "7912403f",
   "metadata": {},
   "outputs": [],
   "source": []
  },
  {
   "cell_type": "raw",
   "id": "20c9e400",
   "metadata": {},
   "source": [
    "7. Write a Python program to sort Python Dictionaries by Key or Value?\n",
    "from collections import OrderedDict\n",
    "\n",
    "d1={'naz':24,'qaz':22,'zaq':12,'qwe':121}\n",
    "d2= OrderedDict(sorted(d1.items()))\n",
    "print(d2)"
   ]
  }
 ],
 "metadata": {
  "kernelspec": {
   "display_name": "Python 3",
   "language": "python",
   "name": "python3"
  },
  "language_info": {
   "codemirror_mode": {
    "name": "ipython",
    "version": 3
   },
   "file_extension": ".py",
   "mimetype": "text/x-python",
   "name": "python",
   "nbconvert_exporter": "python",
   "pygments_lexer": "ipython3",
   "version": "3.8.8"
  }
 },
 "nbformat": 4,
 "nbformat_minor": 5
}
