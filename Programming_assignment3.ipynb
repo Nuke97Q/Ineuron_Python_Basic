{
 "cells": [
  {
   "cell_type": "raw",
   "id": "824334cb",
   "metadata": {},
   "source": [
    "#1. Write a Python Program to Check if a Number is Positive, Negatie or Zero?\n",
    "\n",
    "a= int(input())\n",
    "\n",
    "if a>0:\n",
    "    print(\"Number is Postive\")\n",
    "elif a==0:\n",
    "    print(\"Number is zero\")\n",
    "else:\n",
    "    print(\"number is negative\")"
   ]
  },
  {
   "cell_type": "raw",
   "id": "c68b0664",
   "metadata": {},
   "source": [
    "#2. Write a Python Program to Check if a Number is Odd or Even?\n",
    "\n",
    "num = int(input())\n",
    "\n",
    "if num%2==0:\n",
    "    print(\"number is even\")\n",
    "else:\n",
    "    print(\"number is odd\")"
   ]
  },
  {
   "cell_type": "raw",
   "id": "9d209c18",
   "metadata": {},
   "source": [
    "#3. Write a python program to check leap year?\n",
    "\n",
    "yr= int(input())\n",
    "if yr%4==0:\n",
    "    print(\"entered year is leap year\")\n",
    "else:\n",
    "    print(\"Not leap year\")"
   ]
  },
  {
   "cell_type": "raw",
   "id": "30234289",
   "metadata": {},
   "source": [
    "#4. Write a Python Program to Check Prime Number?\n",
    "\n",
    "num= int(input())\n",
    "flag= False\n",
    "\n",
    "if num>1:\n",
    "    for i in range(2,num):\n",
    "        uif nm%i==0:\n",
    "            flag=True\n",
    "if flag:\n",
    "    print(\"Not prime\")\n",
    "else:\n",
    "    print(\"prime\")"
   ]
  },
  {
   "cell_type": "raw",
   "id": "50f20889",
   "metadata": {},
   "source": [
    "#5. Write a Python Program to Print all Prime Numbers in an Interval of 1-10000?\n",
    "\n",
    "a=[2,3,5,7]\n",
    "c=10000\n",
    "l=[2,3,5,7]\n",
    "for i in range(2,c):\n",
    "    if i%2 == 0 or i%3==0 or i%5==0 or i%7==0:\n",
    "        continue\n",
    "    else:\n",
    "        l.append(i)"
   ]
  }
 ],
 "metadata": {
  "kernelspec": {
   "display_name": "Python 3",
   "language": "python",
   "name": "python3"
  },
  "language_info": {
   "codemirror_mode": {
    "name": "ipython",
    "version": 3
   },
   "file_extension": ".py",
   "mimetype": "text/x-python",
   "name": "python",
   "nbconvert_exporter": "python",
   "pygments_lexer": "ipython3",
   "version": "3.8.8"
  }
 },
 "nbformat": 4,
 "nbformat_minor": 5
}
