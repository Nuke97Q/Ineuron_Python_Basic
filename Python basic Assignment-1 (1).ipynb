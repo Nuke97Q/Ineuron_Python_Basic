{
 "cells": [
  {
   "cell_type": "markdown",
   "id": "5e7004aa",
   "metadata": {},
   "source": [
    "                 Python Basic Assignment-1/50"
   ]
  },
  {
   "cell_type": "raw",
   "id": "f4c6115c",
   "metadata": {},
   "source": [
    "1. In the below elements which of them are values or an expression? eg:- values can be\n",
    "integer or string and expressions will be mathematical operators.\n",
    "*\n",
    "'hello'\n",
    "-87.8\n",
    "-\n",
    "/\n",
    "+\n",
    "6\n",
    "\n",
    "Answer:\n",
    "    Values:- 'hello' , -87.8 , 6\n",
    "    Expression: *;-;/;+"
   ]
  },
  {
   "cell_type": "raw",
   "id": "e5059572",
   "metadata": {},
   "source": [
    "2. What is the difference between string and variable?\n",
    "\n",
    "Ans: String is a datatype in python.\n",
    "It is stored in a variable. \n",
    "A string can be an alphabate ,words,alphanumric words,numbers etc inside '' .\n",
    "To store a string a variable is used. \n",
    "Variable can also be words,alphanumric but with certain restrictions.\n",
    "Usually variables are taken to be simple and easy to understand to reader.\n",
    "\n",
    "xyz = 'Hello I am learning python'\n",
    "here xyz is variable and 'Hello I am learning python' is a string\n",
    "x2= 'Hi 1234'\n",
    "2x = 'hi 1234' here variable is bad variable it should not starts with number\n"
   ]
  },
  {
   "cell_type": "raw",
   "id": "726b386b",
   "metadata": {},
   "source": [
    "3. Describe three different data types.\n",
    "\n",
    "text data type: string(str) is test data type in which anything considered as a text. strings are immutable\n",
    "numeric data type: integer(int), float etc are the numeric data type.integer only shows a number without decimal where as float shows atleast one decimal place of a number.\n",
    "boolean data type: boolean(bool) are the data type used for true/false,on/off purpose.\n"
   ]
  },
  {
   "cell_type": "raw",
   "id": "34094909",
   "metadata": {},
   "source": [
    "4. What is an expression made up of? What do all expressions do?\n",
    "\n",
    "an expression is made up of some numbers with some operators and variables. All expression contains some values or some variable which will be useful in solving problems."
   ]
  },
  {
   "cell_type": "raw",
   "id": "af915602",
   "metadata": {},
   "source": [
    "5. This assignment statements, like spam = 10. What is the difference between an\n",
    "expression and a statement?\n",
    "\n",
    "statements are codes or section of code that represents command or action.\n",
    "every expression is statement vice versa is not true.\n",
    "spam=10 >>expression\n",
    "while spam<15: >>statement"
   ]
  },
  {
   "cell_type": "raw",
   "id": "f062c4b9",
   "metadata": {},
   "source": [
    "6. After running the following code, what does the variable bacon contain?\n",
    "bacon = 22\n",
    "bacon + 1\n",
    "\n",
    "bacon will still contain value 22. because adding 1 to bacon will not change the assigned value of bacon\n",
    "22. It will change if bacon = bacon +1 we assign new value to bacon."
   ]
  },
  {
   "cell_type": "raw",
   "id": "9d11fd69",
   "metadata": {},
   "source": [
    "7. What should the values of the following two terms be?\n",
    "\n",
    "'spam' + 'spamspam'\n",
    "    'spamspamspam'\n",
    "'spam'*3\n",
    "    'spamspamspam'"
   ]
  },
  {
   "cell_type": "raw",
   "id": "3a1d93e5",
   "metadata": {},
   "source": [
    "8. Why is eggs a valid variable name while 100 is invalid?\n",
    "\n",
    "There are certain rules in programming. eggs is a valid variable because it is not a value where 100 is a value. 100 mean something in terms of quantity and that quantity is fixed. whereas in eggs it has no fixed quantity hence become a valid variable."
   ]
  },
  {
   "cell_type": "raw",
   "id": "873cfd4f",
   "metadata": {},
   "source": [
    "9. What three functions can be used to get the integer, floating-point number, or string\n",
    "version of a value?\n",
    "\n",
    "lets say x= 10\n",
    "to get an integer will do int(x)\n",
    "to get a float will do float(x)\n",
    "to get a string will do str(x)"
   ]
  },
  {
   "cell_type": "raw",
   "id": "d6a392f8",
   "metadata": {},
   "source": [
    "10. Why does this expression cause an error? How can you fix it?\n",
    "'I have eaten' + 99 + 'burritos'\n",
    "\n",
    "in this expression two strings 'I have eaten' and 'burritos' are adding(concat) with an integer which is wrong we can fix it by making integer as a string\n",
    "\n",
    "'I have eaten' + ' 99' + ' burritos'"
   ]
  },
  {
   "cell_type": "code",
   "execution_count": null,
   "id": "c4dd4a1b",
   "metadata": {},
   "outputs": [],
   "source": []
  }
 ],
 "metadata": {
  "kernelspec": {
   "display_name": "Python 3",
   "language": "python",
   "name": "python3"
  },
  "language_info": {
   "codemirror_mode": {
    "name": "ipython",
    "version": 3
   },
   "file_extension": ".py",
   "mimetype": "text/x-python",
   "name": "python",
   "nbconvert_exporter": "python",
   "pygments_lexer": "ipython3",
   "version": "3.8.8"
  }
 },
 "nbformat": 4,
 "nbformat_minor": 5
}
