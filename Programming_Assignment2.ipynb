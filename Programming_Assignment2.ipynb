{
 "cells": [
  {
   "cell_type": "raw",
   "id": "9fe91089",
   "metadata": {},
   "source": [
    "1. Write a Python program to convert kilometers to miles?\n",
    "\n",
    "def Miles(kms):\n",
    "    mile = kms/0.621\n",
    "    return mile\n"
   ]
  },
  {
   "cell_type": "raw",
   "id": "0e95956b",
   "metadata": {},
   "source": [
    "2. Write a Python program to convert Celsius to Fahrenheit?\n",
    "\n",
    "def Fahrenheit(celcius):\n",
    "    far=celcius*1.8 +32\n",
    "    return far\n",
    "Fahrenheit(32)"
   ]
  },
  {
   "cell_type": "raw",
   "id": "33a12155",
   "metadata": {},
   "source": [
    "3. Write a program to display calender\n",
    "\n",
    "import calendar\n",
    "yr=int(input(\"year\"))\n",
    "print(calendar.calendar(yr))"
   ]
  },
  {
   "cell_type": "raw",
   "id": "28b1623c",
   "metadata": {},
   "source": [
    "4. Write a Python program to solve quadratic equation?\n",
    "\n",
    "a,b,c=int(input('Enter a')), int(input('Enter b')), int(input('Enter c'))\n",
    "result1= (-b + ((b**2) - (4*a*c))) / (2a)\n",
    "result2= (-b - ((b**2) - (4*a*c))) / (2a)\n",
    "\n",
    "print(result1,result2)"
   ]
  },
  {
   "cell_type": "raw",
   "id": "e43382a9",
   "metadata": {},
   "source": [
    "5. Write a Python program to swap two variables without temp variable?\n",
    "\n",
    "a,b= int(input()), int(input())\n",
    "print(f\"Before swap value of a={a},b={b}\")\n",
    "\n",
    "a= a + b\n",
    "b= a - b\n",
    "a= a - b"
   ]
  },
  {
   "cell_type": "code",
   "execution_count": null,
   "id": "95ce12cd",
   "metadata": {},
   "outputs": [],
   "source": []
  }
 ],
 "metadata": {
  "kernelspec": {
   "display_name": "Python 3",
   "language": "python",
   "name": "python3"
  },
  "language_info": {
   "codemirror_mode": {
    "name": "ipython",
    "version": 3
   },
   "file_extension": ".py",
   "mimetype": "text/x-python",
   "name": "python",
   "nbconvert_exporter": "python",
   "pygments_lexer": "ipython3",
   "version": "3.8.8"
  }
 },
 "nbformat": 4,
 "nbformat_minor": 5
}
