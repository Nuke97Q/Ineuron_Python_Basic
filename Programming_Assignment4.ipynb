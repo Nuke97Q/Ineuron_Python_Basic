{
 "cells": [
  {
   "cell_type": "raw",
   "id": "795e6285",
   "metadata": {},
   "source": [
    "#1. Write a Python Program to Find the Factorial of a Number?\n",
    "\n",
    "def fact(num):\n",
    "    a=1\n",
    "    fc=num\n",
    "    for i in range(1,num):\n",
    "        fc=fc*i\n",
    "    return fc"
   ]
  },
  {
   "cell_type": "raw",
   "id": "4a6abc65",
   "metadata": {},
   "source": [
    "2. Write a Python Program to Display the multiplication Table?\n",
    "\n",
    "def Multi(a,num):\n",
    "    return a * num\n",
    "    \n",
    "num=int(input(\"Enter a number\"))\n",
    "\n",
    "print(f\"Table of number {num} till 10\")\n",
    "for i in range(1,11):\n",
    "    print(f\"{i} * {num} =\",Multi(i,num))\n",
    "    "
   ]
  },
  {
   "cell_type": "raw",
   "id": "f09c6d01",
   "metadata": {},
   "source": [
    "#3. Write a Python Program to Print the Fibonacci sequence?\n",
    "\n",
    "def Fibo(num):\n",
    "    a=1\n",
    "    b=1\n",
    "    print(a)\n",
    "    for i in range(num):\n",
    "        c=a+b\n",
    "        print(c)\n",
    "        a=b\n",
    "        b=c\n",
    "Fibo(10)"
   ]
  },
  {
   "cell_type": "raw",
   "id": "05a0f55b",
   "metadata": {},
   "source": [
    "#4. Write a Python Program to Check Armstrong Number?\n",
    "\n",
    "def Armst(num):\n",
    "    temp = num\n",
    "    su = 0\n",
    "    while temp>0:\n",
    "        su = su+ (temp%10)**3\n",
    "        temp=temp//10\n",
    "    if su==num:\n",
    "        print(\"Armstrong\")\n",
    "    else:\n",
    "        print(\"Not Armstrong\")\n",
    "Armst(153)"
   ]
  },
  {
   "cell_type": "raw",
   "id": "5f58a7e1",
   "metadata": {},
   "source": [
    "5. Write a Python Program to Find Armstrong Number in an Interval?\n",
    "\n",
    "def Find_Armst(num1,num2):\n",
    "\n",
    "    for i in range(num1,num2):\n",
    "        temp=i\n",
    "        su=0\n",
    "        while temp>0:\n",
    "            su = su+ (temp%10)**3\n",
    "            temp=temp//10\n",
    "        if su==i:\n",
    "            print(su)\n"
   ]
  },
  {
   "cell_type": "raw",
   "id": "67620678",
   "metadata": {},
   "source": [
    "6. Write a Python Program to Find the Sum of Natural Numbers?\n",
    "\n",
    "def Sum(num):\n",
    "    s=0\n",
    "    for i in range(num+1):\n",
    "        s = s+i\n",
    "    return s\n"
   ]
  }
 ],
 "metadata": {
  "kernelspec": {
   "display_name": "Python 3",
   "language": "python",
   "name": "python3"
  },
  "language_info": {
   "codemirror_mode": {
    "name": "ipython",
    "version": 3
   },
   "file_extension": ".py",
   "mimetype": "text/x-python",
   "name": "python",
   "nbconvert_exporter": "python",
   "pygments_lexer": "ipython3",
   "version": "3.8.8"
  }
 },
 "nbformat": 4,
 "nbformat_minor": 5
}
