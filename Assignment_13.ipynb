{
 "cells": [
  {
   "cell_type": "raw",
   "id": "f9f5c053",
   "metadata": {},
   "source": [
    "1. What advantages do Excel spreadsheets have over CSV spreadsheets?\n",
    "\n",
    ">> More operations like calculations,formula easy as compare to CSV.\n",
    "Excel also provides the user option for external linking of data from other sources, \n",
    "and also, the user can do custom add-ins.\n",
    "Reading large data set is much easier for the end-user to read, comprehend and understand when compared to CSV."
   ]
  },
  {
   "cell_type": "raw",
   "id": "9cd9aa11",
   "metadata": {},
   "source": [
    "2.What do you pass to csv.reader() and csv.writer() to create reader and writer objects?\n",
    "\n",
    ">> an iterable argument is pass in csv.reader() that returns a line\n",
    "of input for each iteration, such as a file object or a list.\n",
    "\n",
    " The \"fileobj\" argument is pass inside csv.writer() that can be any object that supports the file API"
   ]
  },
  {
   "cell_type": "raw",
   "id": "bbad3792",
   "metadata": {},
   "source": [
    "3. What modes do File objects for reader and writer objects need to be opened in?\n",
    "\n",
    ">> There are different modes for reader and writer objects\n",
    "i)'r' read only mode .the file pointer is placed at the beginning of the file. \n",
    "ii)'w' write only mode. Overwrites the file if the file exists. If the file does not exist, creates a new file for writing.\n",
    "iii) 'r+' read and write mode. Pointer sets at the start of the file.\n",
    "iv) 'w+' write and read mode. Overwrites the existing file if the file exists. If the file does not exist, it creates a new file for reading and writing.\n",
    "v) 'rb' Opens a file for reading only in binary format. The file pointer is placed at the beginning of the file."
   ]
  },
  {
   "cell_type": "raw",
   "id": "2bfcde44",
   "metadata": {},
   "source": [
    "#4. What method takes a list argument and writes it to a CSV file?\n",
    "\n",
    ">> import csv\n",
    "\n",
    "file = open('demo.csv','r+')\n",
    "fr = file.read()\n",
    "print(fr)\n",
    "\n",
    "lst = [1,'nazir','qazi']\n",
    "\n",
    "write = csv.writer(file)\n",
    "wrt = write.writerow(lst)\n",
    "file.close()"
   ]
  },
  {
   "cell_type": "raw",
   "id": "ac02f86e",
   "metadata": {},
   "source": [
    "5. What do the keyword arguments delimiter and line terminator do?\n",
    "\n",
    ">> the keyword delimiter is use for the separation of the csv file data\n",
    "line terminator is a semicolon\";\" which is used to denote a statements end\n",
    "\n",
    "print('Hi')\n",
    "print('Hello')\n",
    "print('World')\n",
    "\n",
    "print('Hi');print('Hello');print('World')"
   ]
  },
  {
   "cell_type": "raw",
   "id": "0bd4e336",
   "metadata": {},
   "source": [
    "6. What function takes a string of JSON data and returns a Python data structure?\n",
    "\n",
    ">>json.loads() is a function that takes json and parse it to python dictionary"
   ]
  },
  {
   "cell_type": "raw",
   "id": "4eaab9e4",
   "metadata": {},
   "source": [
    "7. What function takes a Python data structure and returns a string of JSON data?\n",
    "\n",
    ">>json.dump() function takes a python data structure and returns a string of JSON data"
   ]
  }
 ],
 "metadata": {
  "kernelspec": {
   "display_name": "Python 3",
   "language": "python",
   "name": "python3"
  },
  "language_info": {
   "codemirror_mode": {
    "name": "ipython",
    "version": 3
   },
   "file_extension": ".py",
   "mimetype": "text/x-python",
   "name": "python",
   "nbconvert_exporter": "python",
   "pygments_lexer": "ipython3",
   "version": "3.8.8"
  }
 },
 "nbformat": 4,
 "nbformat_minor": 5
}
