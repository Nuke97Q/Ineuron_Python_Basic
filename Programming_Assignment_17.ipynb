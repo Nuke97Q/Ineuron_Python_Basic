{
 "cells": [
  {
   "cell_type": "raw",
   "id": "8c39f6d3",
   "metadata": {},
   "source": [
    "#Question1. Create a function that takes three arguments a, b, c and returns the sum of the\n",
    "#numbers that are evenly divided by c from the range a, b inclusive.\n",
    "\n",
    "def func(a,b,c):\n",
    "    sum=0\n",
    "    for i in range(a,b-a+1):  \n",
    "        if i%c==0:\n",
    "            sum=sum+i\n",
    "    print(sum)\n",
    "func(1,10,20)"
   ]
  },
  {
   "cell_type": "markdown",
   "id": "3b87e3c1",
   "metadata": {},
   "source": [
    "Question2. Create a function that returns True if a given inequality expression is correct and\n",
    "False otherwise.\n",
    "\n",
    "import regex\n",
    "def correct_sign(a):\n",
    "    regex=eval(a)\n",
    "    if regex:\n",
    "        return True\n",
    "    else:\n",
    "        return False \n",
    "    \n",
    "correct_sign(\"3 < 5 <6\")\n",
    "    \n"
   ]
  },
  {
   "cell_type": "raw",
   "id": "58018f9f",
   "metadata": {},
   "source": [
    "#Question3. Create a function that replaces all the vowels in a string with a specified character.\n",
    "\n",
    "def replace_vowel(a,k):\n",
    "    b= 'AEIOUaeiou'\n",
    "    \n",
    "    for i in b:\n",
    "        a = a.replace(i,k)\n",
    "    return a\n",
    "\n",
    "replace_vowel(\"Geeks for Geeks\",\"/\")\n",
    "\n",
    "    "
   ]
  },
  {
   "cell_type": "raw",
   "id": "c125ec33",
   "metadata": {},
   "source": [
    "#Question4. Write a function that calculates the factorial of a number recursively.\n",
    "\n",
    "def facto(num):\n",
    "    if num==0:\n",
    "        return 1\n",
    "    return num * facto(num-1)\n",
    "facto(5)"
   ]
  },
  {
   "cell_type": "raw",
   "id": "1df08d4d",
   "metadata": {},
   "source": [
    "#Q5: Hamming distance is the number of characters that differ between two strings.\n",
    "    \n",
    "def Ham(a,b):\n",
    "    \n",
    "    if len(a)> len(b):\n",
    "        ct=0\n",
    "        for i in range(len(a)):\n",
    "            if a[i]!=b[i]:\n",
    "                ct = ct+1\n",
    "    else:\n",
    "        ct=0\n",
    "        for i in range(len(b)):\n",
    "            if a[i]!=b[i]:\n",
    "                ct = ct+1\n",
    "    return ct\n",
    "Ham('abcde','bcdef')"
   ]
  }
 ],
 "metadata": {
  "kernelspec": {
   "display_name": "Python 3",
   "language": "python",
   "name": "python3"
  },
  "language_info": {
   "codemirror_mode": {
    "name": "ipython",
    "version": 3
   },
   "file_extension": ".py",
   "mimetype": "text/x-python",
   "name": "python",
   "nbconvert_exporter": "python",
   "pygments_lexer": "ipython3",
   "version": "3.8.8"
  }
 },
 "nbformat": 4,
 "nbformat_minor": 5
}
