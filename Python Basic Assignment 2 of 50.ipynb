{
 "cells": [
  {
   "cell_type": "raw",
   "id": "ba43f6a2",
   "metadata": {},
   "source": [
    "1.What are the two values of the Boolean data type? How do you write them?\n",
    "\n",
    "Two values of Boolean data type is True and False\n",
    "we write it True,False\n"
   ]
  },
  {
   "cell_type": "raw",
   "id": "22afcae1",
   "metadata": {},
   "source": [
    "What are the three different types of Boolean operators?\n",
    "\n",
    "Three different Boolean operator\n",
    "AND\n",
    "OR\n",
    "NOT"
   ]
  },
  {
   "cell_type": "raw",
   "id": "5fc169c3",
   "metadata": {},
   "source": [
    "Make a list of each Boolean operator's truth tables (i.e. every possible combination of Boolean\n",
    "values for the operator and what it evaluate ).\n",
    "\n",
    "True AND False              False\n",
    "True OR  False              True\n",
    "True AND True               True\n",
    "False AND False             False\n",
    "NOT True                    False\n",
    "NOT False                   True\n",
    "NOT (True AND False)        True\n",
    "NOT (True OR False)         False \n",
    "\n"
   ]
  },
  {
   "cell_type": "raw",
   "id": "1ee95c76",
   "metadata": {},
   "source": [
    "What are the values of the following expressions?\n",
    "\n",
    "(5 > 4) and (3 == 5)                   False\n",
    "not (5 > 4)                            False\n",
    "(5 > 4) or (3 == 5)                    True\n",
    "not ((5 > 4) or (3 == 5))              False\n",
    "(True and True) and (True == False)    False\n",
    "(not False) or (not True)              True\n"
   ]
  },
  {
   "cell_type": "raw",
   "id": "cade4474",
   "metadata": {},
   "source": [
    "What are the six comparison operators?\n",
    "\n",
    "x == y              \n",
    "x < y      x less than y \n",
    "x > y      x greater than y  \n",
    "x != y     x not equals y\n",
    "x <= y     x less than equal y\n",
    "x >= y     x greater than equal y"
   ]
  },
  {
   "cell_type": "raw",
   "id": "309cfa51",
   "metadata": {},
   "source": [
    "How do you tell the difference between the equal to and assignment operators?Describe a condition and when you would use one.\n",
    "\n",
    " Assignment operator is generally assign value to a variable \n",
    " e.g: x = 5 assignment\n",
    "  a = x equal operator"
   ]
  },
  {
   "cell_type": "raw",
   "id": "40553da3",
   "metadata": {},
   "source": [
    "7. Identify the three blocks in this code:\n",
    "spam = 0\n",
    "if spam == 10:      |#block\n",
    "    print('eggs')   | \n",
    "if spam > 5:           |#block\n",
    "    print('bacon')     |\n",
    "else:                      |#block\n",
    "    print('ham')           |\n",
    "    print('spam')          |\n",
    "    print('spam')          |"
   ]
  },
  {
   "cell_type": "raw",
   "id": "84f35fc2",
   "metadata": {},
   "source": [
    "8. Write code that prints Hello if 1 is stored in spam, prints Howdy if 2 is stored in spam, and prints\n",
    "Greetings! if anything else is stored in spam.\n",
    "\n",
    "spam = int(input())\n",
    "if spam == 1:      \n",
    "    print('Hello')    \n",
    "elif spam== 2:           \n",
    "    print('Howdy')     \n",
    "else:                      \n",
    "    print('Greetings!')"
   ]
  },
  {
   "cell_type": "raw",
   "id": "bc827189",
   "metadata": {},
   "source": [
    "9.If your programme is stuck in an endless loop, what keys you’ll press?\n",
    "\n",
    "In jupyter notebook Kernel>Interrupt Kernel\n",
    "or press two times I key"
   ]
  },
  {
   "cell_type": "raw",
   "id": "b7ab8ee2",
   "metadata": {},
   "source": [
    "10. How can you tell the difference between break and continue?\n",
    "\n",
    "        break                    continue\n",
    "  It breaks the loop       It goes to loop again"
   ]
  },
  {
   "cell_type": "raw",
   "id": "79bbcebc",
   "metadata": {},
   "source": [
    "11. In a for loop, what is the difference between range(10), range(0, 10), and range(0, 10, 1)?\n",
    "\n",
    "No difference in three of the range, same output"
   ]
  },
  {
   "cell_type": "raw",
   "id": "3dbfb36d",
   "metadata": {},
   "source": [
    "12. Write a short program that prints the numbers 1 to 10 using a for loop. Then write an equivalent\n",
    "program that prints the numbers 1 to 10 using a while loop.\n",
    "\n",
    "for i in range(1,11):\n",
    "    print(i)\n",
    "    \n",
    "a=1\n",
    "while a<11:\n",
    "    print(a)\n",
    "    a = a+1"
   ]
  },
  {
   "cell_type": "raw",
   "id": "3243a282",
   "metadata": {},
   "source": [
    "13. If you had a function named bacon() inside a module named spam, how would you call it after\n",
    "importing spam?\n",
    "\n",
    "spam.bacon()"
   ]
  }
 ],
 "metadata": {
  "kernelspec": {
   "display_name": "Python 3",
   "language": "python",
   "name": "python3"
  },
  "language_info": {
   "codemirror_mode": {
    "name": "ipython",
    "version": 3
   },
   "file_extension": ".py",
   "mimetype": "text/x-python",
   "name": "python",
   "nbconvert_exporter": "python",
   "pygments_lexer": "ipython3",
   "version": "3.8.8"
  }
 },
 "nbformat": 4,
 "nbformat_minor": 5
}
