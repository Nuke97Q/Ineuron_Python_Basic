{
 "cells": [
  {
   "cell_type": "raw",
   "id": "cf34ce18",
   "metadata": {},
   "source": [
    "1. Write a Python Program to Find LCM?\n",
    "\n",
    "a = int(input())\n",
    "la=[]\n",
    "b = int(input())\n",
    "lb=[]\n",
    "lc=[]\n",
    "for i in range(1,11):\n",
    "    la.append(a*i)\n",
    "    lb.append(b*i)\n",
    "for i in range(10):\n",
    "    for j in range(i):\n",
    "        if la[i]==lb[j]:\n",
    "            lc.append(la[i])\n",
    "print(f'LCM of {a} and {b} is {lc[0]}')"
   ]
  },
  {
   "cell_type": "raw",
   "id": "8c8bb2c3",
   "metadata": {},
   "source": [
    "#2. Write a Python Program to Find HCF?\n",
    "\n",
    "def Find_HCF(num1,num2):\n",
    "    \n",
    "    if num1>num2:\n",
    "        small=num1\n",
    "    else:\n",
    "        small=num2\n",
    "        \n",
    "    for i in range(1,small+1):\n",
    "        if((num1%i==0) and (num2%i)==0):\n",
    "            hcf=i\n",
    "    return hcf\n",
    "    \n",
    "Find_HCF(5,18)"
   ]
  },
  {
   "cell_type": "raw",
   "id": "80ae40cb",
   "metadata": {},
   "source": [
    "3. Write a Python Program to Convert Decimal to Binary, Octal and Hexadecimal?\n",
    "\n",
    "def Dec_to_Bin(num):\n",
    "    return bin(num)\n",
    "def Oct_to_Hex(num):\n",
    "    return hex(num)"
   ]
  },
  {
   "cell_type": "raw",
   "id": "d7a28691",
   "metadata": {},
   "source": [
    "#4. Write a Python Program To Find ASCII value of a character?\n",
    "\n",
    "char = input()\n",
    "print(f'ASCII value of {char} is',ord(char))"
   ]
  },
  {
   "cell_type": "raw",
   "id": "83be05c2",
   "metadata": {},
   "source": [
    "#5. Write a Python Program to Make a Simple Calculator with 4 basic mathematical operations?\n",
    "\n",
    "\n",
    "print('press 1 for addition')\n",
    "print('press 2 for subtraction')\n",
    "print('press 3 for multiplication')\n",
    "print('press 4 for division')\n",
    "\n",
    "ab= int(input())\n",
    "n1=int(input('1st number: '))\n",
    "n2=int(input('2nd number'))\n",
    "\n",
    "if ab==1:\n",
    "    print(n1+n2)\n",
    "if ab==2:\n",
    "    print(n1-n2)\n",
    "if ab==3:\n",
    "    print(n1*n2)\n",
    "if ab==4:\n",
    "    print(n1/n2)"
   ]
  },
  {
   "cell_type": "code",
   "execution_count": null,
   "id": "4d90d82a",
   "metadata": {},
   "outputs": [],
   "source": []
  }
 ],
 "metadata": {
  "kernelspec": {
   "display_name": "Python 3",
   "language": "python",
   "name": "python3"
  },
  "language_info": {
   "codemirror_mode": {
    "name": "ipython",
    "version": 3
   },
   "file_extension": ".py",
   "mimetype": "text/x-python",
   "name": "python",
   "nbconvert_exporter": "python",
   "pygments_lexer": "ipython3",
   "version": "3.8.8"
  }
 },
 "nbformat": 4,
 "nbformat_minor": 5
}
