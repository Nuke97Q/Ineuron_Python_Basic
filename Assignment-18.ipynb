{
 "cells": [
  {
   "cell_type": "code",
   "execution_count": null,
   "id": "9de93b63",
   "metadata": {},
   "outputs": [],
   "source": [
    "1. Create a zoo.py file first. Define the hours() function, which prints the string &#39;Open 9-5 daily&#39;.\n",
    "Then, use the interactive interpreter to import the zoo module and call its hours() function.\n",
    "\n",
    "import zoo\n",
    "zoo.hours()"
   ]
  },
  {
   "cell_type": "code",
   "execution_count": null,
   "id": "5d1590bc",
   "metadata": {},
   "outputs": [],
   "source": [
    "2. In the interactive interpreter, import the zoo module as menagerie and call its hours() function.\n",
    "\n",
    "import zoo as menagerie\n",
    "menagerie.hours()"
   ]
  },
  {
   "cell_type": "code",
   "execution_count": null,
   "id": "21698341",
   "metadata": {},
   "outputs": [],
   "source": [
    "3. Using the interpreter, explicitly import and call the hours() function from zoo.\n",
    "\n",
    "from zoo import hours\n",
    "hours()"
   ]
  },
  {
   "cell_type": "code",
   "execution_count": 8,
   "id": "6d5021b2",
   "metadata": {},
   "outputs": [
    {
     "name": "stdout",
     "output_type": "stream",
     "text": [
      "Open 9-5 daily\n"
     ]
    }
   ],
   "source": [
    "4. Import the hours() function as info and call it.\n",
    "\n",
    "from zoo import hours as info\n",
    "info()"
   ]
  },
  {
   "cell_type": "code",
   "execution_count": 17,
   "id": "07573962",
   "metadata": {},
   "outputs": [
    {
     "name": "stdout",
     "output_type": "stream",
     "text": [
      "{'a': 1, 'b': 2, 'c': 3}\n"
     ]
    }
   ],
   "source": [
    "#5. Create a plain dictionary with the key-value pairs 'a': 1, 'b': 2, and 'c': 3, and print it out.\n",
    "            \n",
    "plain_dict= {'a':1,'b':2,'c':3}\n",
    "print(plain_dict)"
   ]
  },
  {
   "cell_type": "code",
   "execution_count": 18,
   "id": "77a824fe",
   "metadata": {},
   "outputs": [
    {
     "name": "stdout",
     "output_type": "stream",
     "text": [
      "OrderedDict([('a', 1), ('b', 2), ('c', 3)])\n"
     ]
    }
   ],
   "source": [
    "#6.Make an OrderedDict called fancy from the same pairs listed in 5 and print it. Did it print in the\n",
    "#same order as plain?\n",
    "\n",
    "from collections import OrderedDict\n",
    "fancy = OrderedDict(plain_dict)\n",
    "print(fancy)"
   ]
  },
  {
   "cell_type": "code",
   "execution_count": 21,
   "id": "02e2f7af",
   "metadata": {},
   "outputs": [
    {
     "name": "stdout",
     "output_type": "stream",
     "text": [
      "{'a': ['something for a']}\n"
     ]
    }
   ],
   "source": [
    "#7. Make a default dictionary called dict_of_lists and pass it the argument list. Make the list\n",
    "#dict_of_lists['a'] and append the value 'something for a' to it in one assignment. Print\n",
    "#dict_of_lists['a'].\n",
    "\n",
    "dict_of_lists = {}\n",
    "lst = ['something for a']\n",
    "\n",
    "dict_of_lists['a']= lst\n",
    "print(dict_of_lists)"
   ]
  },
  {
   "cell_type": "code",
   "execution_count": null,
   "id": "e6987474",
   "metadata": {},
   "outputs": [],
   "source": []
  }
 ],
 "metadata": {
  "kernelspec": {
   "display_name": "Python 3 (ipykernel)",
   "language": "python",
   "name": "python3"
  },
  "language_info": {
   "codemirror_mode": {
    "name": "ipython",
    "version": 3
   },
   "file_extension": ".py",
   "mimetype": "text/x-python",
   "name": "python",
   "nbconvert_exporter": "python",
   "pygments_lexer": "ipython3",
   "version": "3.9.13"
  }
 },
 "nbformat": 4,
 "nbformat_minor": 5
}
