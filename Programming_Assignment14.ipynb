{
 "cells": [
  {
   "cell_type": "raw",
   "id": "ddd540e4",
   "metadata": {},
   "source": [
    "#Define a class with a generator which can iterate the numbers, which are divisible by 7, between a given range 0 and n.\n",
    "\n",
    "\n",
    "class Iter:\n",
    "    def __init__(self):\n",
    "        pass\n",
    "        \n",
    "    def divid(self,n):\n",
    "        for i in range(0,n):\n",
    "            if i%7==0:\n",
    "                print(i)\n",
    "obj = Iter()\n",
    "obj.divid(25)"
   ]
  },
  {
   "cell_type": "raw",
   "id": "f3f5d822",
   "metadata": {},
   "source": []
  },
  {
   "cell_type": "raw",
   "id": "3ca64c5d",
   "metadata": {},
   "source": [
    "Question 2:\n",
    "Write a program to compute the frequency of the words from the input. The output should output after sorting the key alphanumerically.\n",
    "Suppose the following input is supplied to the program:"
   ]
  },
  {
   "cell_type": "raw",
   "id": "2bb17e5c",
   "metadata": {},
   "source": [
    "asd = 'New to Python or choosing between Python 2 and Python 3? Read Python 2 or Python 3.'\n",
    "string = asd.split()\n",
    "dct = {}\n",
    "for word in string:\n",
    "    dct[word] = dct.get(word,0)+1\n",
    "    \n",
    "kv = []\n",
    "for i,j in dct.items():\n",
    "    kv.append((i,j))\n",
    "    \n",
    "for i in a:\n",
    "    print(i)"
   ]
  },
  {
   "cell_type": "raw",
   "id": "440ab8a7",
   "metadata": {},
   "source": []
  },
  {
   "cell_type": "raw",
   "id": "77dea97a",
   "metadata": {},
   "source": [
    "Define a class Person and its two child classes: Male and Female. All classes have a\n",
    "method \"getGender\" which can print \"Male\" for Male class and \"Female\" for Female\n",
    "class."
   ]
  },
  {
   "cell_type": "raw",
   "id": "69c1a939",
   "metadata": {},
   "source": [
    "class Person:\n",
    "    def getGender(self):\n",
    "        pass\n",
    "class Male(Person):\n",
    "    def getGender(self):\n",
    "        return 'Male'\n",
    "    \n",
    "class Female(Person):\n",
    "    def getGender(self):\n",
    "        return 'Female'\n",
    "ob = Male()\n",
    "ob.getGender()"
   ]
  },
  {
   "cell_type": "raw",
   "id": "6008ab10",
   "metadata": {},
   "source": []
  },
  {
   "cell_type": "raw",
   "id": "78d9784d",
   "metadata": {},
   "source": [
    "Please write a program to generate all sentences where subject is in [\"I\", \"You\"] and\n",
    "verb is in [\"Play\", \"Love\"] and the object is in [\"Hockey\",\"Football\"]."
   ]
  },
  {
   "cell_type": "raw",
   "id": "a3c13a07",
   "metadata": {},
   "source": [
    "l1= [\"I\", \"You\"]\n",
    "l2= [\"Play\", \"Love\"]\n",
    "l3= [\"Hockey\",\"Football\"]\n",
    "\n",
    "for i in l1:\n",
    "    for j in l2:\n",
    "        for k in l3:\n",
    "            print(i+\" \"+j+\" \"+k)"
   ]
  },
  {
   "cell_type": "code",
   "execution_count": null,
   "id": "869cd87e",
   "metadata": {},
   "outputs": [],
   "source": []
  },
  {
   "cell_type": "raw",
   "id": "606d179b",
   "metadata": {},
   "source": [
    "Please write a program to compress and decompress the string \"hello world!hello world!hello world!hello world!\""
   ]
  },
  {
   "cell_type": "raw",
   "id": "5e54f1da",
   "metadata": {},
   "source": [
    "def solve(s):\n",
    "    res = \"\"\n",
    "    cnt = 1\n",
    "    for i in range(1, len(s)):\n",
    "        if s[i - 1] == s[i]:\n",
    "            cnt += 1\n",
    "        else:\n",
    "            res = res + s[i - 1]\n",
    "        if cnt > 1:\n",
    "            res += str(cnt)\n",
    "            cnt = 1\n",
    "            res = res + s[-1]\n",
    "    if cnt > 1:\n",
    "        res += str(cnt)\n",
    "    return res\n",
    "\n",
    "s = \"hello world!hello world!hello world!hello world!\"\n",
    "print(solve(s))"
   ]
  },
  {
   "cell_type": "raw",
   "id": "9e729452",
   "metadata": {},
   "source": []
  },
  {
   "cell_type": "raw",
   "id": "52ef7887",
   "metadata": {},
   "source": [
    "Please write a program to compress and decompress the string &quot;hello world!hello\n",
    "world!hello world!hello world!&quot;."
   ]
  },
  {
   "cell_type": "raw",
   "id": "7c4c32f5",
   "metadata": {},
   "source": [
    "import zlib\n",
    "\n",
    "a = \"hello world!hello world!hello world!hello world!\"\n",
    "a = zlib.compress(a.encode())\n",
    "print(a)  # outputs coded\n",
    "b = zlib.decompress(a).decode()\n",
    "print(b)"
   ]
  },
  {
   "cell_type": "raw",
   "id": "435a3980",
   "metadata": {},
   "source": []
  },
  {
   "cell_type": "raw",
   "id": "d388d72c",
   "metadata": {},
   "source": [
    "Please write a binary search function which searches an item in a sorted list. The\n",
    "function should return the index of element to be searched in the list."
   ]
  },
  {
   "cell_type": "raw",
   "id": "45b25de8",
   "metadata": {},
   "source": [
    "def search(a,list):\n",
    "    z = sorted(list)\n",
    "    for i in z:\n",
    "        if i==a:\n",
    "            print(z.index(a))\n",
    "        else:\n",
    "            return \"Element not present\"\n",
    "\n",
    "l = [10,20,32,11,22,101]\n",
    "search(20,l)"
   ]
  }
 ],
 "metadata": {
  "kernelspec": {
   "display_name": "Python 3",
   "language": "python",
   "name": "python3"
  },
  "language_info": {
   "codemirror_mode": {
    "name": "ipython",
    "version": 3
   },
   "file_extension": ".py",
   "mimetype": "text/x-python",
   "name": "python",
   "nbconvert_exporter": "python",
   "pygments_lexer": "ipython3",
   "version": "3.8.8"
  }
 },
 "nbformat": 4,
 "nbformat_minor": 5
}
