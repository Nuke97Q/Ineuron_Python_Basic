{
 "cells": [
  {
   "cell_type": "raw",
   "id": "a56642e0",
   "metadata": {},
   "source": [
    "Please write a program using generator to print the numbers which can be divisible by 5 and\n",
    "7 between 0 and n in comma separated form while n is input by console."
   ]
  },
  {
   "cell_type": "raw",
   "id": "b2ce9e16",
   "metadata": {},
   "source": [
    "class Print:\n",
    "    def __init__(self,n):\n",
    "        self.n = n\n",
    "        for i in range(n):\n",
    "            if i%5==0  and i%7==0:\n",
    "                print(i,end=\",\")\n",
    "ob = Print(100)"
   ]
  },
  {
   "cell_type": "code",
   "execution_count": null,
   "id": "4a2c682b",
   "metadata": {},
   "outputs": [],
   "source": []
  },
  {
   "cell_type": "raw",
   "id": "1eb12617",
   "metadata": {},
   "source": [
    "Please write a program using generator to print the even numbers between 0 and n in comma\n",
    "separated form while n is input by console."
   ]
  },
  {
   "cell_type": "raw",
   "id": "958334b4",
   "metadata": {},
   "source": [
    "class Even:\n",
    "    def __init__(self,n):\n",
    "        self.n = n\n",
    "        for i in range(n+1):\n",
    "            if i%2==0:\n",
    "                print(i, end=\",\")\n",
    "ab = Even(100)"
   ]
  },
  {
   "cell_type": "raw",
   "id": "74b39976",
   "metadata": {},
   "source": []
  },
  {
   "cell_type": "raw",
   "id": "87136481",
   "metadata": {},
   "source": [
    "#Febonacci using list comprehension"
   ]
  },
  {
   "cell_type": "raw",
   "id": "101ce185",
   "metadata": {},
   "source": [
    "n= int(input())\n",
    "list1 = [0,1]\n",
    "[list1.append(list1[-2] + list1[-1]) for i in range(0,n)]\n",
    "print(list1)"
   ]
  },
  {
   "cell_type": "code",
   "execution_count": null,
   "id": "502c8ee9",
   "metadata": {},
   "outputs": [],
   "source": []
  },
  {
   "cell_type": "raw",
   "id": "de638ab4",
   "metadata": {},
   "source": [
    "#Printing username"
   ]
  },
  {
   "cell_type": "raw",
   "id": "fd882514",
   "metadata": {},
   "source": [
    "mail = input().split('@')\n",
    "print('username is :',mail[0])"
   ]
  },
  {
   "cell_type": "code",
   "execution_count": null,
   "id": "666a0065",
   "metadata": {},
   "outputs": [],
   "source": []
  },
  {
   "cell_type": "raw",
   "id": "af9390f5",
   "metadata": {},
   "source": [
    "Define a class named Shape and its subclass Square. The Square class has an init function\n",
    "which takes a length as argument. Both classes have a area function which can print the area\n",
    "of the shape where Shape&#39;s area is 0 by default."
   ]
  },
  {
   "cell_type": "raw",
   "id": "7e6d57b2",
   "metadata": {},
   "source": [
    "class Shape:\n",
    "    def area(self):\n",
    "        return 0\n",
    "\n",
    "\n",
    "class Square(Shape):\n",
    "    def __init__(self,length):\n",
    "        self.length = length\n",
    "    \n",
    "    def area(self):\n",
    "        return self.length**2\n",
    "\n",
    "sq = Shape()\n",
    "sk = Square(10)\n",
    "sk.area()"
   ]
  }
 ],
 "metadata": {
  "kernelspec": {
   "display_name": "Python 3",
   "language": "python",
   "name": "python3"
  },
  "language_info": {
   "codemirror_mode": {
    "name": "ipython",
    "version": 3
   },
   "file_extension": ".py",
   "mimetype": "text/x-python",
   "name": "python",
   "nbconvert_exporter": "python",
   "pygments_lexer": "ipython3",
   "version": "3.8.8"
  }
 },
 "nbformat": 4,
 "nbformat_minor": 5
}
