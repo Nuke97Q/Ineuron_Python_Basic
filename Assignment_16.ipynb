{
 "cells": [
  {
   "cell_type": "raw",
   "id": "03145065",
   "metadata": {},
   "source": [
    "1. Create a list called years_list, starting with the year of your birth, and each year thereafter until\n",
    "the year of your fifth birthday. For example, if you were born in 1980. the list would be years_list =\n",
    "[1980, 1981, 1982, 1983, 1984, 1985].\n",
    "\n",
    "years_list = [1997,1998,1999,2000,2001,2002]"
   ]
  },
  {
   "cell_type": "raw",
   "id": "5476e227",
   "metadata": {},
   "source": [
    "2. In which year in years_list was your third birthday? Remember, you were 0 years of age for your\n",
    "first year.\n",
    "\n",
    "third_bday = years_list[3]"
   ]
  },
  {
   "cell_type": "raw",
   "id": "b275a2b4",
   "metadata": {},
   "source": [
    "3.In the years list, which year were you the oldest\n",
    "\n",
    "oldest = max(years_list)"
   ]
  },
  {
   "cell_type": "raw",
   "id": "2b330450",
   "metadata": {},
   "source": [
    "4. Make a list called things with these three strings as elements: \"mozzarella\", \"cinderella\",\"salmonella\"\n",
    "\n",
    "c_list = [\"mozzarella\", \"cinderella\",\"salmonella\"]"
   ]
  },
  {
   "cell_type": "raw",
   "id": "3b189d71",
   "metadata": {},
   "source": [
    "5. Capitalize the element in things that refers to a person and then print the list. Did it change the\n",
    "element in the list?\n",
    "\n",
    "lst=[]\n",
    "for i in c_list:\n",
    "    lst.append(i.upper())\n",
    "print(lst)"
   ]
  },
  {
   "cell_type": "raw",
   "id": "699e4b7b",
   "metadata": {},
   "source": [
    "6. Make a surprise list with the elements 'Groucho\", \"Chico\" and \"Harpo\"\n",
    "\n",
    "slist = [\"Groucho\", \"Chico\" , \"Harpo\"]\n",
    "\n",
    "slist[2][::-1].capitalize()"
   ]
  },
  {
   "cell_type": "raw",
   "id": "35e41d19",
   "metadata": {},
   "source": [
    "#7. Lowercase the last element of the surprise list, reverse it, and then capitalize it.\n",
    "\n",
    "slist[2][::-1].lower().capitalize()"
   ]
  },
  {
   "cell_type": "raw",
   "id": "7b5d564f",
   "metadata": {},
   "source": [
    "#8. Make an English-to-French dictionary called e2f and print it. Here are your starter words: dog is\n",
    "#chien, cat is chat, and walrus is morse.\n",
    "\n",
    "\n",
    "e2f = {\"dog\":\"chien\",\"car\":\"chat\",\"walrus\":\"morse\"}\n",
    "print(e2f)"
   ]
  },
  {
   "cell_type": "raw",
   "id": "6000c7cc",
   "metadata": {},
   "source": [
    "#9. Write the French word for walrus in your three-word dictionary e2f.\n",
    "print(e2f[\"walrus\"])"
   ]
  },
  {
   "cell_type": "raw",
   "id": "d233c121",
   "metadata": {},
   "source": [
    "#10. Make a French-to-English dictionary called f2e from e2f. Use the items method.\n",
    "\n",
    "f2e={}\n",
    "for k,v in e2f.items():\n",
    "    f2e[v]=k\n",
    "f2e"
   ]
  },
  {
   "cell_type": "raw",
   "id": "b7fe5a11",
   "metadata": {},
   "source": [
    "#11. Print the English version of the French word chien using f2e.\n",
    "\n",
    "print(f2e[\"chien\"])"
   ]
  },
  {
   "cell_type": "raw",
   "id": "5d7f2122",
   "metadata": {},
   "source": [
    "#12. Make and print a set of English words from the keys in e2f.\n",
    "\n",
    "for k,v in e2f.items():\n",
    "    print(k)"
   ]
  },
  {
   "cell_type": "raw",
   "id": "846ffe5e",
   "metadata": {},
   "source": [
    "13. Make a multilevel dictionary called life. Use these strings for the topmost keys:\"animals\", \"plants\",\n",
    "and \"other\";. Make the \"animals\" key refer to another dictionary with the keys \"cats\", \"octopi\", and\n",
    "\"emus\". Make the \"cats\" key refer to a list of strings with the values \"Henri\", \"Grumpy\", and \"Lucy\".\n",
    "Make all the other keys refer to empty dictionaries.\n",
    "\n",
    "life={\"animals\":{\"cats\":[\"Henri\",\"Grumpy\",\"Lucy\"],\"octopi\":\"\",\"emus\":\"\"},\"plants\":\"\",\"other\":\"\"}"
   ]
  },
  {
   "cell_type": "raw",
   "id": "eed828e6",
   "metadata": {},
   "source": [
    "#14. Print the top-level keys of life.\n",
    "\n",
    "life.keys()"
   ]
  },
  {
   "cell_type": "raw",
   "id": "7e5ab4b1",
   "metadata": {},
   "source": [
    "#15.keys for life['animals']\n",
    "life['animals'].keys()"
   ]
  },
  {
   "cell_type": "raw",
   "id": "2c277341",
   "metadata": {},
   "source": [
    "#16. Print the values for life[\"animals\"][\"cats\"]\n",
    "\n",
    "print(life['animals']['cats'])"
   ]
  }
 ],
 "metadata": {
  "kernelspec": {
   "display_name": "Python 3",
   "language": "python",
   "name": "python3"
  },
  "language_info": {
   "codemirror_mode": {
    "name": "ipython",
    "version": 3
   },
   "file_extension": ".py",
   "mimetype": "text/x-python",
   "name": "python",
   "nbconvert_exporter": "python",
   "pygments_lexer": "ipython3",
   "version": "3.8.8"
  }
 },
 "nbformat": 4,
 "nbformat_minor": 5
}
