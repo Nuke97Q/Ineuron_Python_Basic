{
 "cells": [
  {
   "cell_type": "raw",
   "id": "551f1b64",
   "metadata": {},
   "source": [
    "1. What does an empty dictionary&#39;s code look like?\n",
    "\n",
    "d={}"
   ]
  },
  {
   "cell_type": "raw",
   "id": "eda26fef",
   "metadata": {},
   "source": [
    "2. What is the value of a dictionary value with the key 'foo'; and the value 42?\n",
    "\n",
    "d={'foo':42}\n",
    "d.value()\n",
    "42"
   ]
  },
  {
   "cell_type": "raw",
   "id": "000ba519",
   "metadata": {},
   "source": [
    "3. What is the most significant distinction between a dictionary and a list?\n",
    "\n",
    "list represent by [] whereas dictionary by {}\n",
    "dictionary holds two variable known as key and value"
   ]
  },
  {
   "cell_type": "raw",
   "id": "6b38462c",
   "metadata": {},
   "source": [
    "4. What happens if you try to access spam['foo'] if spam is {'bar': 100}?\n",
    "\n",
    "KeyError"
   ]
  },
  {
   "cell_type": "raw",
   "id": "ae466ece",
   "metadata": {},
   "source": [
    "5. If a dictionary is stored in spam, what is the difference between the expressions 'cat' in spam and\n",
    "'cat' in spam.keys()?\n",
    "\n",
    "spam['cat']\n",
    "spam.keys()"
   ]
  },
  {
   "cell_type": "raw",
   "id": "2dd1db56",
   "metadata": {},
   "source": [
    "6. If a dictionary is stored in spam, what is the difference between the expressions 'cat' in spam and\n",
    "'cat' in spam.values()?\n",
    "\n",
    "spam['cat']\n",
    "spam.values()"
   ]
  },
  {
   "cell_type": "raw",
   "id": "1a49f601",
   "metadata": {},
   "source": [
    "7. What is a shortcut for the following code?\n",
    "if 'color' not in spam:\n",
    "      spam['color'] = 'black'\n",
    "      \n",
    "spam.setdefault('color','black')"
   ]
  },
  {
   "cell_type": "raw",
   "id": "313d592c",
   "metadata": {},
   "source": [
    "8. How do you \"pretty print\" dictionary values using which module and function?\n",
    "\n",
    "by using pprint module and pp() function\n"
   ]
  }
 ],
 "metadata": {
  "kernelspec": {
   "display_name": "Python 3",
   "language": "python",
   "name": "python3"
  },
  "language_info": {
   "codemirror_mode": {
    "name": "ipython",
    "version": 3
   },
   "file_extension": ".py",
   "mimetype": "text/x-python",
   "name": "python",
   "nbconvert_exporter": "python",
   "pygments_lexer": "ipython3",
   "version": "3.8.8"
  }
 },
 "nbformat": 4,
 "nbformat_minor": 5
}
