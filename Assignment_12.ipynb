{
 "cells": [
  {
   "cell_type": "raw",
   "id": "3931a412",
   "metadata": {},
   "source": [
    "1. In what modes should the PdfFileReader() and PdfFileWriter() File objects will be opened?\n",
    "\n",
    ">>Binary mode"
   ]
  },
  {
   "cell_type": "raw",
   "id": "be85ad63",
   "metadata": {},
   "source": [
    "2. From a PdfFileReader object, how do you get a Page object for page 5?\n",
    "\n",
    ">>object.getPage(5)"
   ]
  },
  {
   "cell_type": "raw",
   "id": "3463a816",
   "metadata": {},
   "source": [
    "3. What PdfFileReader variable stores the number of pages in the PDF document?\n",
    ">> THe total number of pages stores in pdfReader.numpages"
   ]
  },
  {
   "cell_type": "raw",
   "id": "590e1867",
   "metadata": {},
   "source": [
    "4. If a PdfFileReader object’s PDF is encrypted with the password swordfish, what must you do\n",
    "before you can obtain Page objects from it?\n",
    "\n",
    ">>pdfReader = pyPDF2.pdfFileReader(open('file_name','rb'))\n",
    "pdfReader.decrypt('swordfish')"
   ]
  },
  {
   "cell_type": "raw",
   "id": "26383b51",
   "metadata": {},
   "source": [
    "5. What methods do you use to rotate a page?\n",
    "\n",
    ">>pdfReader = PyPDF2.pdfFileReader(open('file_name'),'rb')\n",
    "\n",
    "page = pdfReader.getPage(0)\n",
    "page.rotateClockwise(90)"
   ]
  },
  {
   "cell_type": "raw",
   "id": "15fad7a6",
   "metadata": {},
   "source": [
    "6. What is the difference between a Run object and a Paragraph object?\n",
    "\n",
    ">> Paragraph Object contains 3-4 Run Object. Each Paragraph Object has Run attributes that is just list of Run objects\n",
    "Run Objects have text attributes containing just text in particular run."
   ]
  },
  {
   "cell_type": "raw",
   "id": "b4dc51e1",
   "metadata": {},
   "source": [
    "7. How do you obtain a list of Paragraph objects for a Document object that’s stored in a variable\n",
    "named doc?\n",
    "\n",
    ">>A document object contains a list of paragraph object for the paragraphs in document.\n",
    "\n",
    "import docx\n",
    "\n",
    "doc = docx.Document('file.docx')\n",
    "\n",
    "doc.paragraph[0].text"
   ]
  },
  {
   "cell_type": "raw",
   "id": "d517b872",
   "metadata": {},
   "source": [
    "8. What type of object has bold, underline, italic, strike, and outline variables?\n",
    "\n",
    ">> Run object has bold,underline,italic and outline variables\n"
   ]
  },
  {
   "cell_type": "raw",
   "id": "fe253901",
   "metadata": {},
   "source": [
    "9. What is the difference between False, True, and None for the bold variable?\n",
    "\n",
    ">> True(The attribute is always enabled,no matter what other styles are applied to run)\n",
    "False( The attribute is disabled)\n",
    "None(Default to whatever run style sets to)"
   ]
  },
  {
   "cell_type": "raw",
   "id": "d7909a2b",
   "metadata": {},
   "source": [
    "10. How do you create a Document object for a new Word document?\n",
    "\n",
    ">> we open .docx file from system. call docx.Document() and then pass the filename inside to it. \n",
    "It creates Document object which has a paragraph attribute that has list of paragraphs objects"
   ]
  },
  {
   "cell_type": "raw",
   "id": "dce91534",
   "metadata": {},
   "source": [
    "#11. How do you add a paragraph with the text 'Hello, there!' to a Document object stored in a variable named doc?\n",
    "\n",
    ">>import docx\n",
    "\n",
    "doc = docx.Document()\n",
    "\n",
    "doc.add_paragraph('Hello, there!')\n",
    "doc.save('ineuron.docx')"
   ]
  },
  {
   "cell_type": "raw",
   "id": "eff5c499",
   "metadata": {},
   "source": [
    "12. What integers represent the levels of headings available in Word documents?\n",
    "\n",
    ">> integers 1-4 are used for different levels of headings.\n",
    "whereas 0 is used for Title heading\n",
    "\n",
    "import docx\n",
    "\n",
    "doc = docx.Document()\n",
    "\n",
    "doc.add_heading('Title ',0)\n",
    "doc.add_heading('Header 1', 1)\n",
    "doc.add_heading('Header 2', 2)\n",
    "doc.add_heading('Header 3', 3)\n",
    "doc.add_heading('Header 4', 4)"
   ]
  }
 ],
 "metadata": {
  "kernelspec": {
   "display_name": "Python 3",
   "language": "python",
   "name": "python3"
  },
  "language_info": {
   "codemirror_mode": {
    "name": "ipython",
    "version": 3
   },
   "file_extension": ".py",
   "mimetype": "text/x-python",
   "name": "python",
   "nbconvert_exporter": "python",
   "pygments_lexer": "ipython3",
   "version": "3.8.8"
  }
 },
 "nbformat": 4,
 "nbformat_minor": 5
}
