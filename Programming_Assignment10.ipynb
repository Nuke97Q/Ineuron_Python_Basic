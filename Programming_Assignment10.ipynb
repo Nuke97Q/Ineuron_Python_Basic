{
 "cells": [
  {
   "cell_type": "raw",
   "id": "1d98ed76",
   "metadata": {},
   "source": [
    "1. Write a Python program to find sum of elements in list?\n",
    "\n",
    "lst= [1,2,3,4,5]\n",
    "s=0\n",
    "for i in lst:\n",
    "    s = s+i\n",
    "print(s)"
   ]
  },
  {
   "cell_type": "raw",
   "id": "96da2a9d",
   "metadata": {},
   "source": [
    "2. Write a Python program to Multiply all numbers in the list?\n",
    "\n",
    "lst= [1,2,3,4,5]\n",
    "s=1\n",
    "for i in lst:\n",
    "    s = s*i\n",
    "print(s)"
   ]
  },
  {
   "cell_type": "raw",
   "id": "9618d102",
   "metadata": {},
   "source": [
    "3. Write a Python program to find smallest number in a list?\n",
    "\n",
    "lst= [12,22,33,24,45]\n",
    "s=lst[0]\n",
    "for i in lst:\n",
    "    if i<s:\n",
    "        s=i"
   ]
  },
  {
   "cell_type": "raw",
   "id": "a135189a",
   "metadata": {},
   "source": [
    "#4. Write a Python program to find largest number in a list?\n",
    "\n",
    "lst = [21,344,212,54,78]\n",
    "s = lst[0]\n",
    "for i in lst:\n",
    "    if i>s:\n",
    "        s=i\n",
    "print(s)"
   ]
  },
  {
   "cell_type": "raw",
   "id": "eb55ecd0",
   "metadata": {},
   "source": [
    "#5. Write a Python program to find second largest number in a list?\n",
    "\n",
    "lst = [11,-23,34,1234,56,34,-123]\n",
    "\n",
    "a= sorted(lst)\n",
    "print(a[-2])"
   ]
  },
  {
   "cell_type": "raw",
   "id": "78a581c7",
   "metadata": {},
   "source": [
    "#6. Write a Python program to find N largest elements from a list?\n",
    "\n",
    "lst = list(input().split())\n",
    "\n",
    "srt=sorted(lst)\n",
    "print(srt[-1])\n",
    "    "
   ]
  },
  {
   "cell_type": "raw",
   "id": "2e6df2a5",
   "metadata": {},
   "source": [
    "7. Write a Python program to print even numbers in a list?\n",
    "\n",
    "lst=[2,3,4,5,6,7,8]\n",
    "\n",
    "for i in lst:\n",
    "    if i%2==0:\n",
    "        print(i)"
   ]
  },
  {
   "cell_type": "raw",
   "id": "c00e45d4",
   "metadata": {},
   "source": [
    "8. Write a Python program to print odd numbers in a List?\n",
    "\n",
    "lst= [2,3,4,5,6,7,8]\n",
    "for i in lst:\n",
    "    if i%2!=0:\n",
    "        print(i)"
   ]
  },
  {
   "cell_type": "raw",
   "id": "3e8de0c8",
   "metadata": {},
   "source": [
    "#9. Write a Python program to Remove empty List from List?\n",
    "\n",
    "lst = [2,3,[],45,39,543,[2,3,4]]\n",
    "rlst=[]\n",
    "for i in lst:\n",
    "    if type(i)==list:\n",
    "        if len(i)!=0:\n",
    "            rlst.append(i)\n",
    "    else:\n",
    "        rlst.append(i)\n",
    "print(rlst)"
   ]
  },
  {
   "cell_type": "code",
   "execution_count": 122,
   "id": "60bf1dbe",
   "metadata": {},
   "outputs": [],
   "source": [
    "#10. Write a Python program to Cloning or Copying a list?\n",
    "\n",
    "lst= [1,22,33,221,234,123]\n",
    "copy_lst=[]\n",
    "\n",
    "copy_lst.extend(lst) #by extension\n",
    "copy2= lst #by assigning\n",
    "copy3=[]\n",
    "for i in lst:\n",
    "    copy3.append(i)\n"
   ]
  }
 ],
 "metadata": {
  "kernelspec": {
   "display_name": "Python 3",
   "language": "python",
   "name": "python3"
  },
  "language_info": {
   "codemirror_mode": {
    "name": "ipython",
    "version": 3
   },
   "file_extension": ".py",
   "mimetype": "text/x-python",
   "name": "python",
   "nbconvert_exporter": "python",
   "pygments_lexer": "ipython3",
   "version": "3.8.8"
  }
 },
 "nbformat": 4,
 "nbformat_minor": 5
}
