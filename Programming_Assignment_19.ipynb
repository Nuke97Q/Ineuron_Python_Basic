{
 "cells": [
  {
   "cell_type": "raw",
   "id": "1b4d1399",
   "metadata": {},
   "source": [
    "#Create a function that takes a string and returns a string in which each character is repeated once.\n",
    "\n",
    "def double_char(a):\n",
    "    for i in a:\n",
    "        print(i*2,end=\"\")\n",
    "double_char('Hi')"
   ]
  },
  {
   "cell_type": "raw",
   "id": "1b4d2e3c",
   "metadata": {},
   "source": [
    "#Create a function that reverses a boolean value and returns the string &quot;boolean expected&quot;\n",
    "#if another variable type is given.\n",
    "\n",
    "def reverse(a):\n",
    "    if a==0 or a==1:\n",
    "         return \"Boolean Expected\"\n",
    "    elif a==True:\n",
    "        return False\n",
    "    elif a==False:\n",
    "        return True\n",
    "    else:\n",
    "        return \"Boolean Expected\"\n",
    "reverse(0)"
   ]
  },
  {
   "cell_type": "raw",
   "id": "df92d510",
   "metadata": {},
   "source": [
    "Question3\n",
    "Create a function that returns the thickness (in meters) of a piece of paper after folding it n\n",
    "number of times. The paper starts off with a thickness of 0.5mm.\n",
    "\n",
    "\n",
    "\n",
    "def num_layers(a):\n",
    "    thick = (a*0.5)/1000\n",
    "    print(f\"Paper folded {a} times thickness is {a*0.5}mm (equal to {thick}m)\")\n",
    "num_layers(10)"
   ]
  },
  {
   "cell_type": "raw",
   "id": "35bc8484",
   "metadata": {},
   "source": [
    "#Create a function that takes a single string as argument and returns an ordered list containing\n",
    "#the indices of all capital letters in the string.\n",
    "\n",
    "def index_of_cap(a):\n",
    "    ind = []\n",
    "    for i in a:\n",
    "        if i.isupper():\n",
    "            ind.append(a.index(i))\n",
    "    return ind\n",
    "index_of_cap('NaZir')"
   ]
  },
  {
   "cell_type": "raw",
   "id": "97de43d1",
   "metadata": {},
   "source": [
    "Using list comprehensions, create a function that finds all even numbers from 1 to the given\n",
    "number.\n",
    "\n",
    "def find_even(a):\n",
    "    print([i for i in range(1,a) if (i%2==0)])\n",
    "find_even(8)  "
   ]
  }
 ],
 "metadata": {
  "kernelspec": {
   "display_name": "Python 3",
   "language": "python",
   "name": "python3"
  },
  "language_info": {
   "codemirror_mode": {
    "name": "ipython",
    "version": 3
   },
   "file_extension": ".py",
   "mimetype": "text/x-python",
   "name": "python",
   "nbconvert_exporter": "python",
   "pygments_lexer": "ipython3",
   "version": "3.8.8"
  }
 },
 "nbformat": 4,
 "nbformat_minor": 5
}
