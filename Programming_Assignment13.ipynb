{
 "cells": [
  {
   "cell_type": "raw",
   "id": "27107ebb",
   "metadata": {},
   "source": [
    "Que1:\n",
    "\n",
    "D = input().split(',')\n",
    "\n",
    "#Q = Square root of [(2 * C * D)/H]\n",
    "\n",
    "for i in D:\n",
    "    q = int((100*int(i)/30)**0.5)\n",
    "    print(q, end=\",\")"
   ]
  },
  {
   "cell_type": "code",
   "execution_count": 34,
   "id": "ed32a815",
   "metadata": {},
   "outputs": [
    {
     "name": "stdout",
     "output_type": "stream",
     "text": [
      "3\n",
      "5\n"
     ]
    }
   ],
   "source": []
  },
  {
   "cell_type": "raw",
   "id": "968ca197",
   "metadata": {},
   "source": [
    "Ques2:\n",
    "\n",
    "X,Y= int(input()),int(input())\n",
    "arr=[]\n",
    "for i in range(X):\n",
    "    row=[]\n",
    "    for j in range(Y):\n",
    "        row.append(i*j)\n",
    "    arr.append(row)\n",
    "arr\n",
    "    "
   ]
  },
  {
   "cell_type": "code",
   "execution_count": 61,
   "id": "9353ee8c",
   "metadata": {},
   "outputs": [
    {
     "name": "stdout",
     "output_type": "stream",
     "text": [
      "hello,my,name,abc\n",
      "abc,hello,my,name\n"
     ]
    }
   ],
   "source": [
    "#Write a program that accepts a comma separated sequence of words as input and prints the\n",
    "#words in a comma-separated sequence after sorting them alphabetically.\n",
    "\n",
    "\n",
    "string = input().split(',')\n",
    "a=sorted(string)\n",
    "print(\",\".join(a))"
   ]
  },
  {
   "cell_type": "raw",
   "id": "c46e97c3",
   "metadata": {},
   "source": [
    "Question 4:\n",
    "Write a program that accepts a sequence of whitespace separated words as input and prints\n",
    "the words after removing all duplicate words and sorting them alphanumerically."
   ]
  },
  {
   "cell_type": "code",
   "execution_count": 68,
   "id": "e9f488b6",
   "metadata": {},
   "outputs": [
    {
     "name": "stdout",
     "output_type": "stream",
     "text": [
      "hello world and practice makes perfect and hello world again\n"
     ]
    }
   ],
   "source": [
    "string = input().split()\n",
    "a=sorted(string)\n",
    "emp=[]\n",
    "for i in a:\n",
    "    if i not in emp:\n",
    "        emp.append(i)\n",
    "print(emp)"
   ]
  },
  {
   "cell_type": "raw",
   "id": "5f239573",
   "metadata": {},
   "source": [
    "Write a program that accepts a sequence of whitespace separated words as input and prints\n",
    "the words after removing all duplicate words and sorting them alphanumerically.\n",
    "\n",
    "string = 'hello world!123'\n",
    "\n",
    "lt=0\n",
    "dg=0\n",
    "for i in string:\n",
    "    if i in 'qwertyuiopasdfghjklmnbvcxzQWERTYUIOPLKJHGFDSAMNBVCXZ' :\n",
    "        lt= ct+1\n",
    "    elif i in '1234567890':\n",
    "        dg= dg+1\n",
    "print('LETTERS:',ct)\n",
    "print('DIGITS:',dg)"
   ]
  },
  {
   "cell_type": "code",
   "execution_count": null,
   "id": "6cb4bde1",
   "metadata": {},
   "outputs": [],
   "source": []
  },
  {
   "cell_type": "raw",
   "id": "41875591",
   "metadata": {},
   "source": [
    "import re \n",
    "def checkpas(passw):\n",
    "    fl = 0\n",
    "    while True:   \n",
    "        if (len(passw)<6 or len(passw)>12): \n",
    "            fl= -1\n",
    "            break\n",
    "        elif not re.search(\"[a-z]\", passw): \n",
    "            fl = -1\n",
    "            break\n",
    "        elif not re.search(\"[A-Z]\", passw): \n",
    "            fl = -1\n",
    "            break\n",
    "        elif not re.search(\"[0-9]\", passw): \n",
    "            fl = -1\n",
    "            break\n",
    "        elif not re.search(\"[#@$]\", passw): \n",
    "            fl = -1\n",
    "            break\n",
    "            \n",
    "        else: \n",
    "            fl = 0\n",
    "            print(passw) \n",
    "            break\n",
    "            \n",
    "paswd = input().split(',')\n",
    "for i in paswd:\n",
    "    checkpas(i)"
   ]
  },
  {
   "cell_type": "code",
   "execution_count": null,
   "id": "e3739f8d",
   "metadata": {},
   "outputs": [],
   "source": []
  }
 ],
 "metadata": {
  "kernelspec": {
   "display_name": "Python 3",
   "language": "python",
   "name": "python3"
  },
  "language_info": {
   "codemirror_mode": {
    "name": "ipython",
    "version": 3
   },
   "file_extension": ".py",
   "mimetype": "text/x-python",
   "name": "python",
   "nbconvert_exporter": "python",
   "pygments_lexer": "ipython3",
   "version": "3.8.8"
  }
 },
 "nbformat": 4,
 "nbformat_minor": 5
}
