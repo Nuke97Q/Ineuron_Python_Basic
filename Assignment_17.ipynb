{
 "cells": [
  {
   "cell_type": "code",
   "execution_count": null,
   "id": "f829f845",
   "metadata": {},
   "outputs": [],
   "source": [
    "1. Assign the value 7 to the variable guess_me. Then, write the conditional tests (if, else, and elif) to\n",
    "print the string \"too low\" if guess_me is less than 7, \"too high\" if greater than 7, and \"just right\" if equal\n",
    "to 7.\n",
    "\n",
    "guess_me = 7\n",
    "if guess_me<7:\n",
    "    print(\"too low\")\n",
    "elif guess_me>7:\n",
    "    print(\"too high\")\n",
    "else:\n",
    "    print('just right')"
   ]
  },
  {
   "cell_type": "code",
   "execution_count": null,
   "id": "09f2902f",
   "metadata": {},
   "outputs": [],
   "source": [
    "2. Assign the value 7 to the variable guess_me and the value 1 to the variable start. Write a while\n",
    "loop that compares start with guess_me. Print too low if start is less than guess me. If start equals\n",
    "guess_me, print \"found it\" and exit the loop. If start is greater than guess_me, print \"oops' and exit\n",
    "the loop. Increment start at the end of the loop.\n",
    "\n",
    "start = 1\n",
    "\n",
    "while True:\n",
    "    if start<guess_me:\n",
    "        print('too low')\n",
    "    elif start==guess_me:\n",
    "        print('found it')\n",
    "        break\n",
    "    elif start>guess_me:\n",
    "        print('opps')\n",
    "        break\n",
    "    start = start+1"
   ]
  },
  {
   "cell_type": "raw",
   "id": "9a2583ed",
   "metadata": {},
   "source": [
    "3. Print the following values of the list [3, 2, 1, 0] using a for loop.\n",
    "\n",
    "lst = [3,2,1,0]\n",
    "for i in lst:\n",
    "    print(i)"
   ]
  },
  {
   "cell_type": "code",
   "execution_count": 4,
   "id": "8538fc6f",
   "metadata": {},
   "outputs": [
    {
     "name": "stdout",
     "output_type": "stream",
     "text": [
      "[0, 2, 4, 6, 8]\n"
     ]
    }
   ],
   "source": [
    "#4. Use a list comprehension to make a list of the even numbers in range(10)\n",
    "\n",
    "num= [n for n in range(10) if n%2==0]\n",
    "print(num)"
   ]
  },
  {
   "cell_type": "code",
   "execution_count": 5,
   "id": "6afffd16",
   "metadata": {},
   "outputs": [
    {
     "data": {
      "text/plain": [
       "{0: 0, 1: 1, 2: 4, 3: 9, 4: 16, 5: 25, 6: 36, 7: 49, 8: 64, 9: 81}"
      ]
     },
     "execution_count": 5,
     "metadata": {},
     "output_type": "execute_result"
    }
   ],
   "source": [
    "#5. Use a dictionary comprehension to create the dictionary squares. Use range(10) to return the keys,\n",
    "#and use the square of each key as its value.\n",
    "\n",
    "\n",
    "squares = {num: num * num for num in range(10)}\n",
    "squares"
   ]
  },
  {
   "cell_type": "code",
   "execution_count": 7,
   "id": "a301b2a8",
   "metadata": {},
   "outputs": [
    {
     "name": "stdout",
     "output_type": "stream",
     "text": [
      "{1, 3, 5, 7, 9}\n"
     ]
    }
   ],
   "source": [
    "#6. Construct the set odd from the odd numbers in the range using a set comprehension (10).\n",
    "\n",
    "num = set(n for n in range(10) if n%2!=0)\n",
    "print(num)"
   ]
  },
  {
   "cell_type": "code",
   "execution_count": null,
   "id": "41138b0d",
   "metadata": {},
   "outputs": [],
   "source": [
    "7. Use a generator comprehension to return the string 'Got' and a number for the numbers in range(10).\n",
    "Iterate through this by using a for loop.\n",
    "\n",
    "string_generator = ('Got ' + str(num) for num in range(10))\n",
    "for item in string_generator:\n",
    "    print(item)\n"
   ]
  },
  {
   "cell_type": "code",
   "execution_count": null,
   "id": "7a6d5948",
   "metadata": {},
   "outputs": [],
   "source": [
    "8. Define a function called good that returns the list ['Harry', 'Ron', 'Hermione'].\n",
    "\n",
    "\n",
    "def retunList():\n",
    "    return ['Harry', 'Ron', 'Hermione']\n",
    "retunList()\n"
   ]
  },
  {
   "cell_type": "code",
   "execution_count": null,
   "id": "1ff84c47",
   "metadata": {},
   "outputs": [],
   "source": [
    "9. Define a generator function called get_odds that returns the odd numbers from range(10). \n",
    "Use a for loop to find and print the third value returned.\n",
    "\n",
    "def get_odds():\n",
    "    for number in range(1, 10, 2):\n",
    "         yield number\n",
    "count = 1\n",
    "for number in get_odds():\n",
    "    if count == 3:\n",
    "        print(\"The third odd number is\", number)\n",
    "        break\n",
    "    count += 1     \n"
   ]
  },
  {
   "cell_type": "code",
   "execution_count": null,
   "id": "fcb5a5d0",
   "metadata": {},
   "outputs": [],
   "source": [
    "10. Define an exception called OopsException. Raise this exception to see what happens. \n",
    "Then writethe code to catch this exception and print 'Caught an oops'\n",
    "\n",
    "\n",
    "class OopsException(Exception):\n",
    "    pass\n",
    "\n",
    "def raiseException(num):\n",
    "    if num < 0:\n",
    "        raise OopsException(num)\n",
    "\n",
    "try:\n",
    "    raiseException(-1)\n",
    "except OopsException as err:\n",
    "    print('Caught an oops')"
   ]
  },
  {
   "cell_type": "code",
   "execution_count": 11,
   "id": "635ddd44",
   "metadata": {},
   "outputs": [],
   "source": [
    "#11. Use zip() to make a dictionary called movies that pairs these lists:\n",
    "titles = ['Creature of Habit', 'Crewel Fate']\n",
    "plots = ['A nun turns into a monster', 'A haunted yarn shop']\n",
    "\n",
    "movie = dict(zip(titles,plots))\n",
    "\n",
    "movie"
   ]
  },
  {
   "cell_type": "code",
   "execution_count": null,
   "id": "c7b0064f",
   "metadata": {},
   "outputs": [],
   "source": []
  }
 ],
 "metadata": {
  "kernelspec": {
   "display_name": "Python 3",
   "language": "python",
   "name": "python3"
  },
  "language_info": {
   "codemirror_mode": {
    "name": "ipython",
    "version": 3
   },
   "file_extension": ".py",
   "mimetype": "text/x-python",
   "name": "python",
   "nbconvert_exporter": "python",
   "pygments_lexer": "ipython3",
   "version": "3.8.8"
  }
 },
 "nbformat": 4,
 "nbformat_minor": 5
}
