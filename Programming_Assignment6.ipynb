{
 "cells": [
  {
   "cell_type": "raw",
   "id": "8cd534c4",
   "metadata": {},
   "source": [
    "#1. Write a Python Program to Display Fibonacci Sequence Using Recursion?\n",
    "\n",
    "def Febonacci(num):\n",
    "    if num<=1:\n",
    "        return num\n",
    "    else:\n",
    "        return (Febonacci(num-1)+ Febonacci(num-2))\n",
    "\n",
    "nterms = 10\n",
    "\n",
    "if nterms<=0:\n",
    "    print(\"please enter positive number\")\n",
    "else:\n",
    "    print(\"Fibonacci Series\")\n",
    "    for i in range(nterms):\n",
    "        print(Febonacci(i))"
   ]
  },
  {
   "cell_type": "raw",
   "id": "6a1fec2e",
   "metadata": {},
   "source": [
    "#2. Write a Python Program to Find Factorial of Number Using Recursion?\n",
    "\n",
    "def Facto(num):\n",
    "    if (num==1 or num==0):\n",
    "        return 1\n",
    "    else:\n",
    "        \n",
    "        return (num *Facto(num-1))\n",
    "num=5\n",
    "print(f\"factorial of {num} is\",Facto(num))"
   ]
  },
  {
   "cell_type": "raw",
   "id": "7350492d",
   "metadata": {},
   "source": [
    "3. Write a Python Program to calculate your Body Mass Index?\n",
    "\n",
    "mass= float(input('Enter your weight'))\n",
    "height= float(input('Enter height in meter'))\n",
    "\n",
    "print(\"BMI is\",mass/height**2)\n"
   ]
  },
  {
   "cell_type": "raw",
   "id": "ff163fac",
   "metadata": {},
   "source": [
    "#4. Write a program to calculate the natural logarithm of any number?\n",
    "\n",
    "import math\n",
    "\n",
    "number= float(input(\"enter a number\"))\n",
    "print(\"Natural log is:\",math.log(number))"
   ]
  },
  {
   "cell_type": "raw",
   "id": "1f515ed8",
   "metadata": {},
   "source": [
    "#5. Write a Python Program for cube sum of first n natural numbers?\n",
    "\n",
    "def Cube_sum(num):\n",
    "        result = (num*(num+1)/2)**2\n",
    "        return result\n",
    "    \n",
    "num = int(input(\"Enter number\"))\n",
    "print(\"sum of natural numbers is\", Cube_sum(num))"
   ]
  },
  {
   "cell_type": "code",
   "execution_count": null,
   "id": "c64b9155",
   "metadata": {},
   "outputs": [],
   "source": []
  }
 ],
 "metadata": {
  "kernelspec": {
   "display_name": "Python 3",
   "language": "python",
   "name": "python3"
  },
  "language_info": {
   "codemirror_mode": {
    "name": "ipython",
    "version": 3
   },
   "file_extension": ".py",
   "mimetype": "text/x-python",
   "name": "python",
   "nbconvert_exporter": "python",
   "pygments_lexer": "ipython3",
   "version": "3.8.8"
  }
 },
 "nbformat": 4,
 "nbformat_minor": 5
}
