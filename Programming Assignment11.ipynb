{
 "cells": [
  {
   "cell_type": "raw",
   "id": "79cf75b3",
   "metadata": {},
   "source": [
    "1. Write a Python program to find words which are greater than given length k?\n",
    "\n",
    "\n",
    "k = int(input(\"enter length of string\"))\n",
    "string = \"My name is nazeeruddin I am from jalgaon maharashtra.\"\n",
    "s=string.split()\n",
    "for i in s:\n",
    "    if len(i)>k:\n",
    "        print(i)"
   ]
  },
  {
   "cell_type": "raw",
   "id": "46e40707",
   "metadata": {},
   "source": [
    "#2. Write a Python program for removing i-th character from a string?\n",
    "\n",
    "ith = int(input(\"enter ith index: \"))\n",
    "\n",
    "string= \"My name is nazeeruddin I am from jalgaon maharashtra.\"\n",
    "stri=\"\"\n",
    "for i in range(len(string)):\n",
    "    if i!=ith:\n",
    "        stri = stri + string[i]\n",
    "        \n",
    "print(stri)"
   ]
  },
  {
   "cell_type": "raw",
   "id": "976b3b14",
   "metadata": {},
   "source": [
    "#3. Write a Python program to split and join a string?\n",
    "\n",
    "my_string= \"My name is nazeeruddin I am from jalgaon maharashtra.\"\n",
    "\n",
    "str_split = my_string.split('is')\n",
    "#print(str_split)\n",
    "str_join = \"\".join(str_split)\n",
    "#print(str_join)"
   ]
  },
  {
   "cell_type": "raw",
   "id": "c4fee4ec",
   "metadata": {},
   "source": [
    "#4. Write a Python to check if a given string is binary string or not?\n",
    "\n",
    "my_string = input(\"Enter a string\")\n",
    "flag= True\n",
    "for i in my_string:\n",
    "    if i=='0' or i=='1':\n",
    "        continue\n",
    "    else:\n",
    "        flag=False\n",
    "        print('Not Binary')\n",
    "        break\n",
    "if flag:\n",
    "    print('Binary')"
   ]
  },
  {
   "cell_type": "raw",
   "id": "5e722670",
   "metadata": {},
   "source": [
    "#5. Write a Python program to find uncommon words from two Strings?\n",
    "\n",
    "my_string1 = \"hi my name is nazir and i am from jalgaon\"\n",
    "my_string2 = \"hi my name is qazi\"\n",
    "spl1=my_string1.split()\n",
    "spl2=my_string2.split()\n",
    "s1=set(spl1)\n",
    "s2=set(spl2)\n",
    "lst=list(s1.symmetric_difference(s2))\n",
    "print(lst)"
   ]
  },
  {
   "cell_type": "raw",
   "id": "64dfee1b",
   "metadata": {},
   "source": [
    "#6. Write a Python to find all duplicate characters in string?\n",
    "\n",
    "my_string =\" my name is nazir and my father name is zamir\"\n",
    "spl=my_string.split()\n",
    "lst=[]\n",
    "for i in range(len(spl)):\n",
    "    if spl[i]==spl[i:len(spl)]:\n",
    "        lst.append(i)"
   ]
  },
  {
   "cell_type": "code",
   "execution_count": 111,
   "id": "17c8408c",
   "metadata": {},
   "outputs": [
    {
     "data": {
      "text/plain": [
       "[]"
      ]
     },
     "execution_count": 111,
     "metadata": {},
     "output_type": "execute_result"
    }
   ],
   "source": []
  },
  {
   "cell_type": "raw",
   "id": "8c3ca17f",
   "metadata": {},
   "source": [
    "#7. Write a Python Program to check if a string contains any special character?\n",
    "flag = False\n",
    "my_string = \"Hello! my name 9s\"\n",
    "for i in my_string:\n",
    "    if i in \"\"\"!!@#$%^&*()_+=-|\\{}[]:\"\"'' \"\"\":\n",
    "        flag=True\n",
    "        continue\n",
    "    else:\n",
    "        pass\n",
    "if flag:\n",
    "    print(\"Special Char found\")\n",
    "else:\n",
    "    print(\"Not found\")"
   ]
  },
  {
   "cell_type": "code",
   "execution_count": null,
   "id": "647aa32e",
   "metadata": {},
   "outputs": [],
   "source": []
  }
 ],
 "metadata": {
  "kernelspec": {
   "display_name": "Python 3",
   "language": "python",
   "name": "python3"
  },
  "language_info": {
   "codemirror_mode": {
    "name": "ipython",
    "version": 3
   },
   "file_extension": ".py",
   "mimetype": "text/x-python",
   "name": "python",
   "nbconvert_exporter": "python",
   "pygments_lexer": "ipython3",
   "version": "3.8.8"
  }
 },
 "nbformat": 4,
 "nbformat_minor": 5
}
