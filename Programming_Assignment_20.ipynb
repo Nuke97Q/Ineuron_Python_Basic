{
 "cells": [
  {
   "cell_type": "markdown",
   "id": "2d6d0d02",
   "metadata": {},
   "source": [
    "Create a function that takes a list of strings and integers, and filters out the list so that it\n",
    "returns a list of integers only.\n",
    "\n",
    "def filter_list(a):\n",
    "    temp = []\n",
    "    for i in a:\n",
    "        if type(i)==int:\n",
    "            temp.append(i)\n",
    "    return temp\n",
    "filter_list([1, 2, 3, 'a', 'b', 4])"
   ]
  },
  {
   "cell_type": "raw",
   "id": "8b7e0eae",
   "metadata": {},
   "source": [
    "Given a list of numbers, create a function which returns the list but with each element&#39;s\n",
    "index in the list added to itself. This means you add 0 to the number at index 0, add 1 to the\n",
    "number at index 1, etc...\n",
    "\n",
    "def add_indexes(a):\n",
    "    temp=[]\n",
    "    x=0\n",
    "    for i in range(len(a)):\n",
    "        x = i +a[i]\n",
    "        temp.append(x)\n",
    "    return temp\n",
    "add_indexes([0, 0, 0, 0, 0])"
   ]
  },
  {
   "cell_type": "code",
   "execution_count": 29,
   "id": "c68e7ca6",
   "metadata": {},
   "outputs": [],
   "source": [
    "#Create a function that takes the height and radius of a cone as arguments and returns the\n",
    "#volume of the cone rounded to the nearest hundredth. See the resources tab for the formula.\n",
    "\n",
    "import math as m\n",
    "def cone_volume(height,radius):\n",
    "    vol = (1/3)*m.pi*height*radius**2\n",
    "    print(round(vol,2))\n",
    "cone_volume(3,2)"
   ]
  },
  {
   "cell_type": "raw",
   "id": "e48d9cc9",
   "metadata": {},
   "source": [
    "This Triangular Number Sequence is generated from a pattern of dots that form a triangle.\n",
    "The first 5 numbers of the sequence, or dots, are:\n",
    "    \n",
    "def triangle(a):\n",
    "    c=0\n",
    "    for i in range(a+1):\n",
    "        c= c+i\n",
    "    return c"
   ]
  },
  {
   "cell_type": "code",
   "execution_count": 42,
   "id": "3bcb344c",
   "metadata": {},
   "outputs": [],
   "source": [
    "Create a function that takes a list of numbers between 1 and 10 (excluding one number) and\n",
    "returns the missing number.\n",
    "\n",
    "import random as r\n",
    "def missing_num(a):\n",
    "    for i in range(1,11):\n",
    "        if i not in a:\n",
    "            return i\n",
    "missing_num([1,2,3,4,6,7,8,9,10])"
   ]
  }
 ],
 "metadata": {
  "kernelspec": {
   "display_name": "Python 3",
   "language": "python",
   "name": "python3"
  },
  "language_info": {
   "codemirror_mode": {
    "name": "ipython",
    "version": 3
   },
   "file_extension": ".py",
   "mimetype": "text/x-python",
   "name": "python",
   "nbconvert_exporter": "python",
   "pygments_lexer": "ipython3",
   "version": "3.8.8"
  }
 },
 "nbformat": 4,
 "nbformat_minor": 5
}
