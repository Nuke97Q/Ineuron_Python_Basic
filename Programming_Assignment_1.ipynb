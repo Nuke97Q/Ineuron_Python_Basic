{
 "cells": [
  {
   "cell_type": "raw",
   "id": "e59653a4",
   "metadata": {},
   "source": [
    "1. Write a Python program to print \"Hello Python\"?\n",
    "\n",
    "print(\"Hello Python\")"
   ]
  },
  {
   "cell_type": "raw",
   "id": "a69dbf5a",
   "metadata": {},
   "source": [
    "2. Write a Python program to do arithmetical operations addition and division.?\n",
    "\n",
    "a= int(input())\n",
    "b=int(input())\n",
    "c=a+b      #addition\n",
    "d=a/b      #Division"
   ]
  },
  {
   "cell_type": "raw",
   "id": "d5dee163",
   "metadata": {},
   "source": [
    "3. Write a Python program to find the area of a triangle?\n",
    "\n",
    "ht=float(input(\"enter height of triangle\"))\n",
    "bs=float(input(\"Enter base of triangle\"))\n",
    "area= 0.5*ht*bs \n",
    "\n",
    "print(area)"
   ]
  },
  {
   "cell_type": "raw",
   "id": "245f0164",
   "metadata": {},
   "source": [
    "4. Write a Python program to swap two variables?\n",
    "\n",
    "x=5\n",
    "y=7\n",
    "\n",
    "x= x+y\n",
    "y= x-y\n",
    "x= y-x"
   ]
  },
  {
   "cell_type": "raw",
   "id": "8ba2574f",
   "metadata": {},
   "source": [
    "5. Write a Python program to generate a random number?\n",
    "\n",
    "import random\n",
    "a= int(input(\"last digit\"))\n",
    "print(random.randint(0,a))"
   ]
  }
 ],
 "metadata": {
  "kernelspec": {
   "display_name": "Python 3",
   "language": "python",
   "name": "python3"
  },
  "language_info": {
   "codemirror_mode": {
    "name": "ipython",
    "version": 3
   },
   "file_extension": ".py",
   "mimetype": "text/x-python",
   "name": "python",
   "nbconvert_exporter": "python",
   "pygments_lexer": "ipython3",
   "version": "3.8.8"
  }
 },
 "nbformat": 4,
 "nbformat_minor": 5
}
