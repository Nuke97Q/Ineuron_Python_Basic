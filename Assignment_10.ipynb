{
 "cells": [
  {
   "cell_type": "raw",
   "id": "7c29e6ea",
   "metadata": {},
   "source": [
    "1. How do you distinguish between shutil.copy() and shutil.copytree()?\n",
    "\n",
    ">>The shutil.copy() function will copy a single file, \n",
    "while shutil.copytree() will copy an entire folder, along with all its contents."
   ]
  },
  {
   "cell_type": "raw",
   "id": "62cf5792",
   "metadata": {},
   "source": [
    "2. What function is used to rename files??\n",
    "\n",
    ">>The shutil.move() function is used for renaming files, as well as moving them"
   ]
  },
  {
   "cell_type": "raw",
   "id": "39f215fd",
   "metadata": {},
   "source": [
    "3. What is the difference between the delete functions in the send2trash and shutil modules?\n",
    "\n",
    ">>The send2trash functions will move a file or folder to the recycle bin, while shutil functions will permanently\n",
    "delete files and folders."
   ]
  },
  {
   "cell_type": "raw",
   "id": "2719d290",
   "metadata": {},
   "source": [
    "4.ZipFile objects have a close() method just like File objects’ close() method. What ZipFile method is\n",
    "equivalent to File objects’ open() method?\n",
    "\n",
    ">>The zipfile.ZipFile() function is equivalent to the open() function; the first argument is the filename, \n",
    "and the second argument is the mode to open the ZIP file in (read, write, or append)."
   ]
  },
  {
   "cell_type": "raw",
   "id": "97667e80",
   "metadata": {},
   "source": [
    "\"\"\"5. Create a programme that searches a folder tree for files with a certain file extension (such as .pdf\n",
    "or .jpg). Copy these files from whatever location they are in to a new folder.\n",
    "\"\"\"\n",
    "import os, shutil\n",
    "\n",
    "sourcePath = input(\"Enter the absolute path of the source folder: \")\n",
    "fileExtType = input(\"Enter the type of file to copy (such as .pdf or .jpg):\" ).lower()\n",
    "destPath = input(\"Enter the absolute path of the destination folder:\" )\n",
    "\n",
    "for foldername, subfolders, filenames in os.walk(sourcePath):\n",
    "    for filename in filenames:\n",
    "        if filename.lower().endswith(fileExtType):\n",
    "            #print(foldername + ‘\\\\’ + filename)\n",
    "             copySourcePath = os.path.join(foldername, filename)\n",
    "             #print(copySourcePath)\n",
    "             shutil.copy(copySourcePath, destPath)\n",
    "        else:\n",
    "             continue"
   ]
  },
  {
   "cell_type": "code",
   "execution_count": null,
   "id": "3faa7a6c",
   "metadata": {},
   "outputs": [],
   "source": []
  }
 ],
 "metadata": {
  "kernelspec": {
   "display_name": "Python 3",
   "language": "python",
   "name": "python3"
  },
  "language_info": {
   "codemirror_mode": {
    "name": "ipython",
    "version": 3
   },
   "file_extension": ".py",
   "mimetype": "text/x-python",
   "name": "python",
   "nbconvert_exporter": "python",
   "pygments_lexer": "ipython3",
   "version": "3.8.8"
  }
 },
 "nbformat": 4,
 "nbformat_minor": 5
}
